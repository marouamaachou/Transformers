{
  "nbformat": 4,
  "nbformat_minor": 0,
  "metadata": {
    "accelerator": "GPU",
    "colab": {
      "name": "transformer_model",
      "provenance": [],
      "collapsed_sections": [],
      "machine_shape": "hm"
    },
    "kernelspec": {
      "display_name": "Python 3",
      "language": "python",
      "name": "python3"
    },
    "language_info": {
      "codemirror_mode": {
        "name": "ipython",
        "version": 3
      },
      "file_extension": ".py",
      "mimetype": "text/x-python",
      "name": "python",
      "nbconvert_exporter": "python",
      "pygments_lexer": "ipython3",
      "version": "3.7.4"
    }
  },
  "cells": [
    {
      "cell_type": "code",
      "metadata": {
        "colab_type": "code",
        "id": "3f8aCayLia1n",
        "colab": {}
      },
      "source": [
        "import numpy as np\n",
        "import io\n",
        "from time import time\n",
        "from math import sqrt\n",
        "import matplotlib.pyplot as plt\n",
        "from nltk.tokenize import RegexpTokenizer\n",
        "from gensim.corpora import Dictionary"
      ],
      "execution_count": 0,
      "outputs": []
    },
    {
      "cell_type": "code",
      "metadata": {
        "colab_type": "code",
        "id": "RWrHSYDYig9L",
        "colab": {}
      },
      "source": [
        "%tensorflow_version 2.x\n",
        "import tensorflow as tf\n",
        "from tensorflow.keras.layers import Layer, LayerNormalization, Dropout, Dense, Embedding, Input\n",
        "from tensorflow.keras.models import Model"
      ],
      "execution_count": 0,
      "outputs": []
    },
    {
      "cell_type": "markdown",
      "metadata": {
        "colab_type": "text",
        "id": "wTzXqtqfmSYq"
      },
      "source": [
        "***In this notebook, we tried to implement from scratch a Transformer model in Tensorflow / Keras, for a french - english translation.  We based our work on the paper \" Attention is all you need\" as well as the Pytorch implementation of the model.***"
      ]
    },
    {
      "cell_type": "markdown",
      "metadata": {
        "colab_type": "text",
        "id": "qu8LomuicRzL"
      },
      "source": [
        "# The Transformer"
      ]
    },
    {
      "cell_type": "markdown",
      "metadata": {
        "colab_type": "text",
        "id": "Kv5J0F4Pck_C"
      },
      "source": [
        "The Transformer is a neural network architecture released by Google Research in 2017 in a paper called \"Attention is All You Need\" (https://arxiv.org/abs/1706.03762). This is landmark improvement and opens up a new paradigm in the field of sequence-to-sequence learning. In particuler, the Transformer and its extensions beated state-of-the-art results in several fields : machine translation, language modelling, text summarization, etc. In this notebook, we'll go deep into the model architecture and train it for french-to-english machine translation."
      ]
    },
    {
      "cell_type": "markdown",
      "metadata": {
        "colab_type": "text",
        "id": "40FXBedecZva"
      },
      "source": [
        "## Model"
      ]
    },
    {
      "cell_type": "markdown",
      "metadata": {
        "colab_type": "text",
        "id": "S2aZxHg60G11"
      },
      "source": [
        "### Sequence-to-sequence model"
      ]
    },
    {
      "cell_type": "markdown",
      "metadata": {
        "colab_type": "text",
        "id": "39vRcDPMeSc3"
      },
      "source": [
        "Sequence-to-sequence learning arises when the model takes as input a sequence of elements and outputs another sequence. Here, the temporal aspect is often essential to the task. The main approach to solve this problem with deep learning is to build an encoder-decoder structure. The encoder takes the input sequence and create a compact representation of it. From this representation, the decoder generate the output sequence iteratively, elements by elements. Before the Transformer model, the main approach was to use a RNN to encode the input sequence and use the final hidden vector as a compact representation of the sequence. Then, the decoder, another RNN, could take this vector as input and generate elements one by one. Variants include using a CNN as an encoder to process input images. The Transformer has a simple encoder-decoder structure, with only feedforward layers. The core innovation is the attention mechanism, which we'll explore later."
      ]
    },
    {
      "cell_type": "code",
      "metadata": {
        "colab_type": "code",
        "id": "QEAGbgmVhA-M",
        "colab": {}
      },
      "source": [
        "class Transformer(Model):\n",
        "    \n",
        "    def __init__ (self, num_layers, d_model, num_heads, d_feedforward,\n",
        "                  input_vocab_size, target_vocab_size, rate=0.1):\n",
        "        super(Transformer, self).__init__()\n",
        "        self.num_layers = num_layers\n",
        "\n",
        "        # encoder word embedding\n",
        "        self.encoder_word_embedding = Embedding(input_vocab_size, d_model)\n",
        "        # encoder positional encoding\n",
        "        self.encoder_positional_encoding = PositionalEncoding(d_model)\n",
        "        # encoding layers\n",
        "        self.encoding_layers = [EncoderLayer(d_model, num_heads, d_feedforward, rate)\n",
        "                                for _ in range(num_layers)]\n",
        "\n",
        "        # decoder word embedding\n",
        "        self.decoder_word_embedding = Embedding(target_vocab_size, d_model)\n",
        "        # decoder positional encoding\n",
        "        self.decoder_positional_encoding = PositionalEncoding(d_model)\n",
        "        # decoding layers\n",
        "        self.decoding_layers = [DecoderLayer(d_model, num_heads, d_feedforward, rate) \n",
        "                                for _ in range(num_layers)]\n",
        "\n",
        "        # generator\n",
        "        self.generator = Generator(target_vocab_size)\n",
        "        \n",
        "    def encode(self, enc_x, enc_padding_mask):\n",
        "        # Encoding - Embedding / Positional Encoding\n",
        "        enc_x = self.encoder_word_embedding(enc_x)\n",
        "        enc_x = self.encoder_positional_encoding(enc_x)\n",
        "        # Encoding - Processing\n",
        "        for i in range(self.num_layers):\n",
        "            enc_x = self.encoding_layers[i](enc_x, enc_padding_mask)\n",
        "        enc_output = enc_x\n",
        "        return enc_output\n",
        "    \n",
        "    def decode(self, enc_output, enc_padding_mask, dec_x, look_ahead_mask):\n",
        "        # Decoding - Embedding / Positional Encoding\n",
        "        dec_x = self.decoder_word_embedding(dec_x)\n",
        "        dec_x = self.decoder_positional_encoding(dec_x)\n",
        "        # Decoding - Processing\n",
        "        for i in range(self.num_layers):\n",
        "            dec_x = self.decoding_layers[i](dec_x, enc_output, enc_padding_mask, look_ahead_mask)\n",
        "        dec_output = dec_x\n",
        "        return dec_output\n",
        "    \n",
        "    def generate(self, dec_output):\n",
        "        # Generate\n",
        "        output = self.generator(dec_output)\n",
        "        return output\n",
        "        \n",
        "    def call(self, enc_x, dec_x, enc_padding_mask=None, look_ahead_mask=None):\n",
        "        # Encode\n",
        "        enc_output = self.encode(enc_x, enc_padding_mask)\n",
        "\n",
        "        # Decode\n",
        "        dec_output = self.decode(enc_output, enc_padding_mask, dec_x, look_ahead_mask)\n",
        "\n",
        "        # Generate\n",
        "        output = self.generator(dec_output)\n",
        "        \n",
        "        return output"
      ],
      "execution_count": 0,
      "outputs": []
    },
    {
      "cell_type": "markdown",
      "metadata": {
        "colab_type": "text",
        "id": "2gApUUAil0V3"
      },
      "source": [
        "The transformer has a encoder-decoder architecture: the encoder takes the input sequence and maps it onto a single latent vector representing the entire sequence. This vector is then transmitted to a decoder which decomposes it into the  corresponding target sequence.\n",
        "\n",
        "Here, our task is machine translation so the input and output sequences consist of words, represented by their id in the language vocabulary (we will create it with the dataset in the following). First, we convert the word indices into word embeddings to get a vector representation with useful semantic properties. These word embeddings are randomly initialised and learned within the model. Then, we need to solve an issue from the Transformer architecture: unlike recurrent networks, here all words are processed in parallel. We're then loosing the temporal aspect of the sequence, i.e. their position in the sentence. A naive way to solve it is to add a specific value to the word embedding, depending on the position of this word in the sentence: this is called positional encoding. The value added is a combination of sine and cosine functions."
      ]
    },
    {
      "cell_type": "code",
      "metadata": {
        "colab_type": "code",
        "id": "95k8UUKzpXIY",
        "colab": {}
      },
      "source": [
        "class PositionalEncoding(Layer):\n",
        "    \n",
        "    def __init__(self, d_model, rate=0.1, max_len=5000):\n",
        "        super(PositionalEncoding, self).__init__()\n",
        "\n",
        "        self.pe = np.zeros((max_len, d_model))\n",
        "\n",
        "        position = np.arange(0, max_len, dtype='float32')\n",
        "        position = np.expand_dims(position, axis=1)\n",
        "\n",
        "        div_term = np.exp(np.arange(0, d_model, 2, dtype='float32') * (- np.log(1e4) / d_model))\n",
        "\n",
        "        self.pe[:, 0::2] = np.sin(position * div_term)\n",
        "        self.pe[:, 1::2] = np.cos(position * div_term)\n",
        "\n",
        "        self.pe = np.expand_dims(self.pe,axis=0)\n",
        "        self.pe = tf.cast(self.pe, dtype=tf.float32)\n",
        "\n",
        "        self.dropout = Dropout(rate)\n",
        "\n",
        "    def call(self, x):\n",
        "        #x = x + tf.Variable(self.pe[:, :x.get_shape()[1]], trainable=False)\n",
        "        x = x + self.pe[:, :x.shape[1]]\n",
        "        return self.dropout(x)"
      ],
      "execution_count": 0,
      "outputs": []
    },
    {
      "cell_type": "code",
      "metadata": {
        "colab_type": "code",
        "id": "npNF1HOFpbra",
        "outputId": "5ecc681b-e939-429c-e8d6-592c9aaed5b4",
        "colab": {
          "base_uri": "https://localhost:8080/",
          "height": 337
        }
      },
      "source": [
        "plt.figure(figsize=(15, 5))\n",
        "pe = PositionalEncoding(50, 0)\n",
        "y = pe.call(tf.Variable(tf.zeros([1, 20, 50])))\n",
        "plt.plot(np.arange(20), y[0, :, 4:8].numpy())\n",
        "plt.legend([\"dim %d\"%p for p in [4,5,6,7]])"
      ],
      "execution_count": 0,
      "outputs": [
        {
          "output_type": "execute_result",
          "data": {
            "text/plain": [
              "<matplotlib.legend.Legend at 0x7f532540dc88>"
            ]
          },
          "metadata": {
            "tags": []
          },
          "execution_count": 202
        },
        {
          "output_type": "display_data",
          "data": {
            "image/png": "[encoded data removed]",
            "text/plain": [
              "<Figure size 1080x360 with 1 Axes>"
            ]
          },
          "metadata": {
            "tags": []
          }
        }
      ]
    },
    {
      "cell_type": "markdown",
      "metadata": {
        "colab_type": "text",
        "id": "XmQkY2LlpVPr"
      },
      "source": [
        "Next, the input sentence (word embeddings + positional encoding) is process consecutively by the encoding layers and we store the final output. The decoder operates in the same vein: it takes into account the encoded input sentence and generate output words one at a time. When a word is generated, it's added to the current output sentence and this partial sentence is given back into the decoder to generate the next word (as in RNN-like architectures). The main difference between this model and the previous RNN-based architecture is that at each step of the decoding process, it is possible for the decoder to actually see the encoded input setence, in addition to the current ouput sentence. The way the Transformer takes into account the encoded input sentence, differently at each step, is performed thanks to the attention trick."
      ]
    },
    {
      "cell_type": "markdown",
      "metadata": {
        "colab_type": "text",
        "id": "kiE8FQ_LTk33"
      },
      "source": [
        "### Attention module"
      ]
    },
    {
      "cell_type": "markdown",
      "metadata": {
        "colab_type": "text",
        "id": "5WZGbpTDP2_Q"
      },
      "source": [
        "The main feature of the Transformer architecture is what we call the attention. It allows the model to take into account the encoded representation of the input during the decoding process. For each word in the input sequence, the encoder produces a vector representation of this word (after several layers of embedding/feed forward layers). At the beginning of the decoding process, we then start with a vector per input word and we want to use them to produce the output sentence.\n",
        "\n",
        "A simplistic approach would be to predict the first word thanks to the first encoded vector, etc. until the end of the process, but we wouldn't take into account the global sentence. Another approach would be to add up all the vectors into a very compact representation and just predict the whole sentence from that (as in the RNN-based machine translation). Between these two extremes, the Transformer tries to produce a weighted sum of the encoded vectors, with different weights depending on which word we want to translate. Intuitively, we think that the translation of a given word will give a great weight to its equivalent in the input sentence, and more diffuse weights to other input words, but nonzeros so that we still take care of the context on the sentence. This context (the other words we take into account from translating a given word) can be at any arbitrary distance we want from the word of interest, which is a huge improvement compared to RNN-based models.\n",
        "\n",
        "To do that, we use a system of queries, keys and values (Q, K, V). Values are simply the encoded vectors we want to add up together in a weighted sum. More importantly, queries and keys enable us to generate the appropriate weights. Let's see an example. Suppose we've already predict (m-1) word in the output sentence and we want to predict the mth. The query produced from the last predicted word, here the (m-1)th word. Keys are produced from the input vectors. We take the dot product between our query and all of the keys, resulting with (unnormalized) weights. By taking the dot product between two vectors, which can be seen as a distance, we obtain the matching between them. Weights are then matching values between the current word (latest translated) and all input representations, we normalize these weights with a softmax function to get them between 0 and 1. Finally, the output of the attention layer is the weighted sum of the encoded inputs, with weights being the dot product between a query and keys (+ softmax)."
      ]
    },
    {
      "cell_type": "code",
      "metadata": {
        "colab_type": "code",
        "id": "tA2CwRki4UJa",
        "colab": {}
      },
      "source": [
        "def masked_fill(scores, mask, value=-1e9):\n",
        "    mask = tf.expand_dims(mask, axis=1)\n",
        "    scores = scores * mask + value * (1. - mask)\n",
        "    return scores\n",
        "\n",
        "def attention(query, key, value, mask=None):\n",
        "    dim_k = tf.cast(query.shape[-1], dtype=tf.float32)\n",
        "    scores = tf.matmul(query, key, transpose_b=True)\n",
        "    scores = scores / tf.math.sqrt(dim_k)\n",
        "    \n",
        "    if mask is not None:\n",
        "        scores = masked_fill(scores, mask)\n",
        "        \n",
        "    weights = tf.nn.softmax(scores, axis=-1)\n",
        "    attention = tf.matmul(weights, value)\n",
        "        \n",
        "    return attention, weights"
      ],
      "execution_count": 0,
      "outputs": []
    },
    {
      "cell_type": "markdown",
      "metadata": {
        "colab_type": "text",
        "id": "h5MeXGaCLiwK"
      },
      "source": [
        "Mathematically, these is equivalent to the following steps: \n",
        "\n",
        "- First, three vectors are created from each input word vector, let's call this vector X. These three vectors are the _query_ Q, the _key_ K, and the _value_ V. They are created by multyplying the input word vector with three different matrices that are trained. <br>\n",
        "$$q_{output} = W_Q x_{output}$$\n",
        "$$K_{input} = W_K X_{input}$$\n",
        "$$V_{input} = W_V X_{input} $$\n",
        "\n",
        "- Then a score is calculated by taking the dot product of the query vector corresponding to the input word and the key vector of the word we want to score.\n",
        "$$scores = q_{output} K_{input}^T$$\n",
        "\n",
        "- This score is normalized. It is divided by a constant (here we use the square root of the dimension of the query vector) and passed through a softmax function. \n",
        "$$weigths = softmax ( scores / sqrt(d_k) )$$\n",
        "\n",
        "- The value vectors are then multiplied by the normalized scores and added up to form the output of the self-attention layer for the input word at hand.\n",
        "$$attention = weigths * V_{input}$$"
      ]
    },
    {
      "cell_type": "markdown",
      "metadata": {
        "colab_type": "text",
        "id": "o9ijq2S4WlTP"
      },
      "source": [
        "### MultiHead Attention Layer "
      ]
    },
    {
      "cell_type": "markdown",
      "metadata": {
        "colab_type": "text",
        "id": "pnrgcFcoLiwQ"
      },
      "source": [
        "In the Transformer model, the attention mechanism is improved by using multi-head attention. In this case, the attention process is applied several times for a same decoding step but with different matrices $W_Q$, $W_K$, $W_V$. UsEach attention head has a different set of matrices, this enables us to create different (query, key) couples. Thus, when one input vector is passed to the multi-head attention function, it produces several ouput attention vectors. We can imagine that each individual head will be specialized at looking for a special pattern inside the encoded input sentence, and therefore we mix all of these patterns to do the prediction."
      ]
    },
    {
      "cell_type": "markdown",
      "metadata": {
        "colab_type": "text",
        "id": "bTjM0IA-LiwS"
      },
      "source": [
        "Having several sets of matrices to compute the query, key and value vectors allows the attention layer to compute as many different combination of the encoded input as they are heads in the multi-head attention. Moreover, the multi-head attention improves the simple attention by expanding the model's ability to focus on different words of the sentence."
      ]
    },
    {
      "cell_type": "code",
      "metadata": {
        "colab_type": "code",
        "id": "1Z1USYc8Tk39",
        "colab": {}
      },
      "source": [
        "class MultiHeadAttention(Layer):\n",
        "\n",
        "    def __init__(self, num_heads, d_model, dropout=0.1):\n",
        "        super(MultiHeadAttention, self).__init__()\n",
        "\n",
        "        assert d_model % num_heads == 0\n",
        "        \n",
        "        self.h = num_heads\n",
        "        self.d_k = d_model // num_heads\n",
        "        self.num_heads = num_heads\n",
        "        self.attn = None\n",
        "        \n",
        "        self.wq = Dense(d_model)\n",
        "        self.wk = Dense(d_model)\n",
        "        self.wv = Dense(d_model)\n",
        "        \n",
        "        self.dense = Dense(d_model)        \n",
        "\n",
        "    def call(self, v, k, q, mask):        \n",
        "        # Calculate query/key/value matrix for each head\n",
        "        q = self.wq(q)\n",
        "        k = self.wk(k)\n",
        "        v = self.wv(v)\n",
        "        \n",
        "        batch_size = tf.shape(q)[0]\n",
        "        sent_len = tf.shape(v)[1]\n",
        "        \n",
        "        q = tf.reshape(q, (batch_size, self.h, -1, self.d_k))\n",
        "        k = tf.reshape(k, (batch_size, self.h, -1, self.d_k))\n",
        "        v = tf.reshape(v, (batch_size, self.h, -1, self.d_k))\n",
        "        \n",
        "        # Calculate attention for each head\n",
        "        attn, weights = attention(q, k, v, mask)\n",
        "        self.attn = weights\n",
        "        \n",
        "        # Concatenate and apply a final linear layer\n",
        "        attn = tf.transpose(attn, perm=[0, 2, 1, 3])\n",
        "        concat_attention = tf.reshape(attn, (batch_size, -1, self.h * self.d_k))\n",
        "        output = self.dense(concat_attention)\n",
        "        \n",
        "        return output"
      ],
      "execution_count": 0,
      "outputs": []
    },
    {
      "cell_type": "markdown",
      "metadata": {
        "colab_type": "text",
        "id": "_Pbrpjd0Tk4Y"
      },
      "source": [
        "### Encoder Layer"
      ]
    },
    {
      "cell_type": "markdown",
      "metadata": {
        "colab_type": "text",
        "id": "hHmp9gObLiwn"
      },
      "source": [
        "Each encoder layer is made of a multi-head *self-attention* sublayer  followed by a feed-forward layer. After that is a residual connection followed by a normalization layer. \n",
        "\n",
        "In our use case, attention allows us to look at the whole sentence and make connections betweenthe different words and their relevant context. In self-attention, it consists of the attention each word pays to the other words of the sentence in order to quatify the context and specially the words that are th most relevent to this particular word. Therefore, self-attention consists of calculating the attention scores using the input sentence embedding as the key, query and value vectors.  \n",
        "\n",
        "A residual connection is allows to add the original input back onto the output that we just calculated and the normalisation layer normalizes inputs through the features. These operations are also applied around the sblayers of the decoder. "
      ]
    },
    {
      "cell_type": "code",
      "metadata": {
        "colab_type": "code",
        "id": "Vdc6SFpATk4a",
        "colab": {}
      },
      "source": [
        "class EncoderLayer(Layer) : \n",
        "\n",
        "    def __init__(self, d_model, num_heads, output_dim, rate=0.1,**kwargs):\n",
        "        super(EncoderLayer, self).__init__(**kwargs)\n",
        "        \n",
        "        self.attention = MultiHeadAttention(num_heads, d_model)\n",
        "        self.norm1 = LayerNormalization(axis=-1, epsilon=1e-6)\n",
        "        \n",
        "        self.feedforward = FeedForward(d_model, output_dim)\n",
        "        self.norm2 = LayerNormalization(axis=-1, epsilon=1e-6)\n",
        "        \n",
        "        self.dropout = Dropout(rate)\n",
        "\n",
        "    def call(self, x, padding_mask):\n",
        "        # Self-Attention\n",
        "        attention_output = self.attention(x, x, x, padding_mask)\n",
        "        attention_output = self.dropout(attention_output)\n",
        "        # Add & Normalize\n",
        "        #x = self.norm1(x + attention_output)\n",
        "        x = self.norm1(attention_output)\n",
        "\n",
        "        # FeedForward\n",
        "        feedforward_output = self.feedforward(x)\n",
        "        feedforward_output = self.dropout(feedforward_output)\n",
        "        # Add & Normalize\n",
        "        output = self.norm2(x + feedforward_output)\n",
        "\n",
        "        return output"
      ],
      "execution_count": 0,
      "outputs": []
    },
    {
      "cell_type": "markdown",
      "metadata": {
        "colab_type": "text",
        "id": "MhuHQRGDTk4D"
      },
      "source": [
        "### FeedForward"
      ]
    },
    {
      "cell_type": "markdown",
      "metadata": {
        "colab_type": "text",
        "id": "0biJtXFTLiwh"
      },
      "source": [
        "- The Transformer model contains a stack of encoders and a stack of decoders. Each encoder and each decoder contains a feed-forward layer which consists of two linear transformations seperated by a ReLU activation. The weights for each of these feed-forward layers varies for each encoder/decoder."
      ]
    },
    {
      "cell_type": "code",
      "metadata": {
        "colab_type": "code",
        "id": "4fuFzIp_Tk4F",
        "colab": {}
      },
      "source": [
        "class FeedForward(Layer):\n",
        "    \n",
        "    def __init__(self, d_model, d_ff, dropout=0.1):\n",
        "        super(FeedForward, self).__init__()\n",
        "        self.l_1 = Dense(d_ff, activation='relu')\n",
        "        self.l_2 = Dense(d_model)\n",
        "        self.dropout = Dropout(dropout)\n",
        "\n",
        "    def call(self, x):\n",
        "        return self.dropout(self.l_2(self.l_1(x)))"
      ],
      "execution_count": 0,
      "outputs": []
    },
    {
      "cell_type": "markdown",
      "metadata": {
        "colab_type": "text",
        "id": "nVFI0S7XTk4i"
      },
      "source": [
        "### Decoder Layer"
      ]
    },
    {
      "cell_type": "markdown",
      "metadata": {
        "colab_type": "text",
        "id": "raN_55vOLiws"
      },
      "source": [
        "Each decoder layer is made of a masked self-attention sublayer followed by a multihead *attention* layer and a feed-forward. \n",
        "\n",
        "The self-attention layer is similar to the one in the encoder beside the fact that a mask is applied to the input so that the words of subsequent positions (_i.e._ the words coming after in the sentence) are not taken into consideration, which ensures that the predictions for a position can depend only on the known outputs preceding it, as shown in the following image.\n",
        " The second attention layer, also called Encode-Decoder attention, performs a multi-head attention on the output of the encoder stack."
      ]
    },
    {
      "cell_type": "code",
      "metadata": {
        "colab_type": "code",
        "id": "seMNLgvoJ1T2",
        "outputId": "7a1e0286-233a-4c00-ae70-538a3fedd806",
        "colab": {
          "base_uri": "https://localhost:8080/",
          "height": 475
        }
      },
      "source": [
        "from IPython.display import Image\n",
        "Image(\"transformer-fig3-400.jpg\")"
      ],
      "execution_count": 0,
      "outputs": [
        {
          "output_type": "execute_result",
          "data": {
            "image/jpeg": "[encoded data removed]",
            "text/plain": [
              "<IPython.core.display.Image object>"
            ]
          },
          "metadata": {
            "tags": []
          },
          "execution_count": 207
        }
      ]
    },
    {
      "cell_type": "code",
      "metadata": {
        "colab_type": "code",
        "id": "ZtGLYndATk4k",
        "colab": {}
      },
      "source": [
        "class DecoderLayer(Layer):\n",
        "\n",
        "    def __init__(self, d_model, h, d_feedforward, rate=0.1,**kwargs):\n",
        "        super(DecoderLayer, self).__init__(**kwargs)\n",
        "        \n",
        "        self.attention = MultiHeadAttention(h, d_model)\n",
        "        self.norm1 = LayerNormalization(axis=-1, epsilon=1e-6)\n",
        "        \n",
        "        self.attention_mask = MultiHeadAttention(h, d_model)\n",
        "        self.norm2 = LayerNormalization(axis=-1, epsilon=1e-6)\n",
        "        \n",
        "        self.feedforward = FeedForward(d_model, d_feedforward)\n",
        "        self.norm3 = LayerNormalization(axis=-1, epsilon=1e-6)\n",
        "        \n",
        "        self.dropout = Dropout(rate)\n",
        "\n",
        "    def call(self, x, enc_x, padding_mask, look_ahead_mask):\n",
        "        # Self-Attention\n",
        "        attention_output1 = self.attention(x, x, x, look_ahead_mask)\n",
        "        attention_output1 = self.dropout(attention_output1)\n",
        "        # Add & Normalize\n",
        "        #output1 = self.norm1(x + attention_output1)\n",
        "        output1 = self.norm1(attention_output1)\n",
        "        \n",
        "        # Encoder-Decoder Attention\n",
        "        attention_output2 = self.attention(enc_x, enc_x, output1, padding_mask)\n",
        "        attention_output2 = self.dropout(attention_output2)\n",
        "        # Add & Normalize\n",
        "        output2 = self.norm2(output1 + attention_output2)\n",
        "        \n",
        "        # FeedForward\n",
        "        feedforward_output = self.feedforward(output2)\n",
        "        feedforward_output = self.dropout(feedforward_output)\n",
        "        # Add & Normalize\n",
        "        output3 = self.norm3(output2 + feedforward_output)\n",
        "        \n",
        "        return output3"
      ],
      "execution_count": 0,
      "outputs": []
    },
    {
      "cell_type": "markdown",
      "metadata": {
        "colab_type": "text",
        "id": "9KWaBm74Tk4o"
      },
      "source": [
        "### Generator Layer"
      ]
    },
    {
      "cell_type": "markdown",
      "metadata": {
        "colab_type": "text",
        "id": "5Tfb3gDILiw2"
      },
      "source": [
        "This layer is the final one. It comes after the stack of decoders. It is made of a linear layer that projects the encoder stack output into a representation space that has the size of the vocabulary. The output of the linear layer is then passed to a softmax layer that indicates what word, in the vocabulary, is the output"
      ]
    },
    {
      "cell_type": "code",
      "metadata": {
        "colab_type": "code",
        "id": "lYlMU0MrTk4p",
        "colab": {}
      },
      "source": [
        "class Generator(Layer):\n",
        "    \n",
        "    def __init__(self, d_model):\n",
        "        super(Generator, self).__init__()\n",
        "        self.proj = Dense(d_model)\n",
        "        \n",
        "    def call(self, x):\n",
        "        return tf.compat.v1.nn.log_softmax(self.proj(x), dim=-1)"
      ],
      "execution_count": 0,
      "outputs": []
    },
    {
      "cell_type": "markdown",
      "metadata": {
        "colab_type": "text",
        "id": "kAQ4bjWDTk4t"
      },
      "source": [
        "### The overall architecture"
      ]
    },
    {
      "cell_type": "code",
      "metadata": {
        "colab_type": "code",
        "id": "JvKn_fBvJZw3",
        "outputId": "9928d840-1c10-44b9-eee4-cd485f65c009",
        "colab": {
          "base_uri": "https://localhost:8080/",
          "height": 34
        }
      },
      "source": [
        "from google.colab import drive\n",
        "drive.mount('/content/drive')"
      ],
      "execution_count": 0,
      "outputs": [
        {
          "output_type": "stream",
          "text": [
            "Drive already mounted at /content/drive; to attempt to forcibly remount, call drive.mount(\"/content/drive\", force_remount=True).\n"
          ],
          "name": "stdout"
        }
      ]
    },
    {
      "cell_type": "markdown",
      "metadata": {
        "colab_type": "text",
        "id": "zI_TB4WwLiw8"
      },
      "source": [
        "The full Transformer architecture corresponds to the picture below, that comes from https://nlp.seas.harvard.edu/2018/04/03/attention.html"
      ]
    },
    {
      "cell_type": "code",
      "metadata": {
        "colab_type": "code",
        "id": "_HFUOuJ4Liw9",
        "outputId": "84c1564d-9f1f-4804-966d-2023dbe374f3",
        "colab": {
          "base_uri": "https://localhost:8080/",
          "height": 1000
        }
      },
      "source": [
        "Image(\"The-Transformer-model-architecture.png\")"
      ],
      "execution_count": 0,
      "outputs": [
        {
          "output_type": "execute_result",
          "data": {
            "image/png": "[encoded data removed]",
            "text/plain": [
              "<IPython.core.display.Image object>"
            ]
          },
          "metadata": {
            "tags": []
          },
          "execution_count": 211
        }
      ]
    },
    {
      "cell_type": "markdown",
      "metadata": {
        "colab_type": "text",
        "id": "ZVehVuCJ2ZFQ"
      },
      "source": [
        "\n",
        "\n",
        "The transformer has a sequence-to-sequence / encoder-decoder architecture: the encoder takes the input sequence and maps it onto a single latent vector representing the entire sequence. This vector is then transmitted to a decoder which decomposes it into the  corresponding target sequence.\n",
        "\n",
        "The Encoder and Decoder are composed of modules that can be added on top of each other and are mainly MultiHead Attention and Feed Forward layers. \n",
        "\n",
        "\n",
        "\n",
        "\n"
      ]
    },
    {
      "cell_type": "markdown",
      "metadata": {
        "colab_type": "text",
        "id": "hh4vwYnmCuU4"
      },
      "source": [
        "## Toy Dataset"
      ]
    },
    {
      "cell_type": "markdown",
      "metadata": {
        "colab_type": "text",
        "id": "Jtou61B-zZTL"
      },
      "source": [
        "### Preprocessing"
      ]
    },
    {
      "cell_type": "markdown",
      "metadata": {
        "colab_type": "text",
        "id": "i4k8NAd4HhQj"
      },
      "source": [
        " The Preprocessing of the data consists on transforming the sentences into vectors of integers using the following steps : \n",
        "\n",
        "*   Tokenising the words which means turning them into word ids with the Tokenizer function. This process is done by taking off all of the punctuation and extracting the unique words of the vocabulary, and then giving each one a unique integer id.\n",
        "\n",
        "*   Adding padding to the vectors to make sure the english and french sequences have the same length with the keras pad_sequence function.\n",
        "\n",
        "Following that, we created the dataset and turned the sequences of integers into tensorflow tensors to be able to give it to our model. "
      ]
    },
    {
      "cell_type": "code",
      "metadata": {
        "colab_type": "code",
        "id": "CcPMmXJ8C1v3",
        "colab": {}
      },
      "source": [
        "def preprocess(docs, tokenizer):\n",
        "    for idx in range(len(docs)):\n",
        "        docs[idx] = docs[idx].lower() # Convert to lowercase.\n",
        "        docs[idx] = tokenizer.tokenize(docs[idx]) # Split into words.\n",
        "    docs = [['<start>'] + [token for token in doc if not token.isnumeric()] + ['<end>'] for doc in docs]\n",
        "    return docs"
      ],
      "execution_count": 0,
      "outputs": []
    },
    {
      "cell_type": "markdown",
      "metadata": {
        "colab_type": "text",
        "id": "4m7PzwktzbsR"
      },
      "source": [
        "### Masks"
      ]
    },
    {
      "cell_type": "markdown",
      "metadata": {
        "colab_type": "text",
        "id": "SJEoPNQKzbpq"
      },
      "source": [
        "There is also a change to the self-attention sub-layer in the decoder stack to prevent the following positions from being occupied. This masking,combined with the fact that the recesses of the outputs are offset by one position, ensures that predictions for position **i** can only depend on known outputs at positions below **i**."
      ]
    },
    {
      "cell_type": "code",
      "metadata": {
        "colab_type": "code",
        "id": "FZzs-fBpzely",
        "colab": {}
      },
      "source": [
        "def subsequent_mask(size):\n",
        "    \"Mask out subsequent positions.\"\n",
        "    attn_shape = (1, size, size)\n",
        "    subsequent_mask = np.triu(np.ones(attn_shape), k=1).astype('uint8')\n",
        "    return (subsequent_mask == 0)\n",
        "\n",
        "def make_masks(src, tgt):\n",
        "    src_mask = np.expand_dims((src != 0), axis=-2) * 1.\n",
        "    trg = tgt[:,:-1]\n",
        "    tgt_mask = np.expand_dims((trg != 0), axis=-2) * 1.\n",
        "    ahead_mask = (tgt_mask * subsequent_mask(trg.shape[-1])) * 1.\n",
        "\n",
        "    src_mask = src_mask.astype('float32')\n",
        "    ahead_mask = ahead_mask.astype('float32')\n",
        "    return trg, src_mask, ahead_mask"
      ],
      "execution_count": 0,
      "outputs": []
    },
    {
      "cell_type": "code",
      "metadata": {
        "colab_type": "code",
        "id": "eWzFw3qizgyB",
        "outputId": "022d5d52-4ba5-4e87-c692-6fac0facac25",
        "colab": {
          "base_uri": "https://localhost:8080/",
          "height": 337
        }
      },
      "source": [
        "plt.figure(figsize=(5,5))\n",
        "plt.imshow(subsequent_mask(20)[0])"
      ],
      "execution_count": 0,
      "outputs": [
        {
          "output_type": "execute_result",
          "data": {
            "text/plain": [
              "<matplotlib.image.AxesImage at 0x7f532414e908>"
            ]
          },
          "metadata": {
            "tags": []
          },
          "execution_count": 214
        },
        {
          "output_type": "display_data",
          "data": {
            "image/png": "[encoded data removed]",
            "text/plain": [
              "<Figure size 360x360 with 1 Axes>"
            ]
          },
          "metadata": {
            "tags": []
          }
        }
      ]
    },
    {
      "cell_type": "markdown",
      "metadata": {
        "colab_type": "text",
        "id": "G0mO4zpkzwhd"
      },
      "source": [
        "### Create & preprocess dataset"
      ]
    },
    {
      "cell_type": "markdown",
      "metadata": {
        "colab_type": "text",
        "id": "aDMRcDoal3Ad"
      },
      "source": [
        "Before training our model on the main dataset, we generated a small \"toy\" dataset of 5000 sentences all written with the same 4 words to translate. We preprocessed this data the same way we did for our main dataset, which explained below. "
      ]
    },
    {
      "cell_type": "code",
      "metadata": {
        "colab_type": "code",
        "id": "u23XTC94CzjY",
        "outputId": "726b6b60-402a-4d3b-8d52-6e252381ac06",
        "colab": {
          "base_uri": "https://localhost:8080/",
          "height": 68
        }
      },
      "source": [
        "## Toy Example\n",
        "seq_len = 4\n",
        "vocab_fr = ['bonjour', 'oui', 'non', 'etudiant']\n",
        "vocab_en = ['hello', 'yes', 'no', 'student']\n",
        "\n",
        "raw_data_fr = []\n",
        "raw_data_en = []\n",
        "\n",
        "for i in range(5000):\n",
        "    #l = np.random.randint(1, seq_len-1)\n",
        "    l = seq_len - 1\n",
        "    word_index = np.random.randint(1, len(vocab_fr), l)\n",
        "    tmp_fr = ' '.join([vocab_fr[j] for j in word_index])\n",
        "    tmp_en = ' '.join([vocab_en[j] for j in word_index])\n",
        "    raw_data_fr.append(tmp_fr)\n",
        "    raw_data_en.append(tmp_en)\n",
        "\n",
        "print('sentence example')\n",
        "print('fr:', raw_data_fr[5])\n",
        "print('en:', raw_data_en[5])"
      ],
      "execution_count": 0,
      "outputs": [
        {
          "output_type": "stream",
          "text": [
            "sentence example\n",
            "fr: non oui etudiant\n",
            "en: no yes student\n"
          ],
          "name": "stdout"
        }
      ]
    },
    {
      "cell_type": "code",
      "metadata": {
        "colab_type": "code",
        "id": "8EUOiSJ3C1yv",
        "colab": {}
      },
      "source": [
        "tokenizer = RegexpTokenizer(r'\\w+')\n",
        "\n",
        "data_en = preprocess(raw_data_en, tokenizer)\n",
        "data_fr = preprocess(raw_data_fr, tokenizer)\n",
        "\n",
        "dict_fr = Dictionary(data_fr)\n",
        "dict_en = Dictionary(data_en)\n",
        "\n",
        "data_fr = [dict_fr.doc2idx(doc) for doc in data_fr]\n",
        "data_en = [dict_en.doc2idx(doc) for doc in data_en]"
      ],
      "execution_count": 0,
      "outputs": []
    },
    {
      "cell_type": "code",
      "metadata": {
        "colab_type": "code",
        "id": "P3doLWDyC1sj",
        "outputId": "0b950d38-a2ec-4f29-ba17-28a2df315f65",
        "colab": {
          "base_uri": "https://localhost:8080/",
          "height": 85
        }
      },
      "source": [
        "print('Number of unique tokens (fr): %d' % len(dict_fr))\n",
        "print('Number of documents (fr): %d' % len(data_fr))\n",
        "\n",
        "print('Number of unique tokens (en): %d' % len(dict_en))\n",
        "print('Number of documents (en): %d' % len(data_en))"
      ],
      "execution_count": 0,
      "outputs": [
        {
          "output_type": "stream",
          "text": [
            "Number of unique tokens (fr): 5\n",
            "Number of documents (fr): 5000\n",
            "Number of unique tokens (en): 5\n",
            "Number of documents (en): 5000\n"
          ],
          "name": "stdout"
        }
      ]
    },
    {
      "cell_type": "code",
      "metadata": {
        "colab_type": "code",
        "id": "s0CfJl6ODGGu",
        "outputId": "b2bdbbbb-7e66-4459-da59-42577b5e66c4",
        "colab": {
          "base_uri": "https://localhost:8080/",
          "height": 34
        }
      },
      "source": [
        "seq_len = max(np.max([len(c) for c in data_fr]), np.max([len(c) for c in data_en]))\n",
        "print('Maximum sequence length:', seq_len)"
      ],
      "execution_count": 0,
      "outputs": [
        {
          "output_type": "stream",
          "text": [
            "Maximum sequence length: 5\n"
          ],
          "name": "stdout"
        }
      ]
    },
    {
      "cell_type": "code",
      "metadata": {
        "colab_type": "code",
        "id": "4CWRGut5DGC4",
        "colab": {}
      },
      "source": [
        "data_fr = [list(np.pad(c, (0, seq_len - len(c)))) for c in data_fr]\n",
        "data_en = [list(np.pad(c, (0, seq_len - len(c)))) for c in data_en]\n",
        "\n",
        "src = np.array(data_fr)\n",
        "tgt = np.array(data_en)"
      ],
      "execution_count": 0,
      "outputs": []
    },
    {
      "cell_type": "code",
      "metadata": {
        "colab_type": "code",
        "id": "Fa2twTZ9DQdP",
        "colab": {}
      },
      "source": [
        "trg, src_mask, ahead_mask = make_masks(src, tgt)"
      ],
      "execution_count": 0,
      "outputs": []
    },
    {
      "cell_type": "code",
      "metadata": {
        "colab_type": "code",
        "id": "cGwl_UEeDF-e",
        "colab": {}
      },
      "source": [
        "X_train = [src, trg, src_mask, ahead_mask]\n",
        "y_train = tgt[:,1:]"
      ],
      "execution_count": 0,
      "outputs": []
    },
    {
      "cell_type": "markdown",
      "metadata": {
        "colab_type": "text",
        "id": "LJMk2NWUz0jv"
      },
      "source": [
        "### Create model & train"
      ]
    },
    {
      "cell_type": "markdown",
      "metadata": {
        "colab_type": "text",
        "id": "8_vQuLpqgUZ1"
      },
      "source": [
        "For the training, we can notice that having a very small vocabulary lead to the model overfitting on it very quickly starting the 11 epoch. "
      ]
    },
    {
      "cell_type": "code",
      "metadata": {
        "colab_type": "code",
        "id": "0r-WvoG3C1Y-",
        "outputId": "6160417f-e81c-4527-8c55-2d04d07b9596",
        "colab": {
          "base_uri": "https://localhost:8080/",
          "height": 595
        }
      },
      "source": [
        "enc_x = Input(shape=(seq_len,))\n",
        "dec_x = Input(shape=(seq_len-1,))\n",
        "enc_padding_mask = Input(shape=(1, seq_len))\n",
        "look_ahead_mask = Input(shape=(seq_len-1, seq_len-1))\n",
        "\n",
        "input_vocab_size = len(dict_fr)\n",
        "target_vocab_size = len(dict_en)\n",
        "\n",
        "d_model = 32\n",
        "d_feedforward = 128\n",
        "num_heads = 2\n",
        "num_layers = 2\n",
        "rate = 0.01\n",
        "transfo = Transformer(num_layers, d_model, num_heads, d_feedforward, \n",
        "                      input_vocab_size, target_vocab_size, rate)\n",
        "\n",
        "output = transfo.call(enc_x, dec_x, enc_padding_mask, look_ahead_mask)\n",
        "model = Model(inputs=[enc_x, dec_x, enc_padding_mask, look_ahead_mask], outputs=output)\n",
        "model.summary()"
      ],
      "execution_count": 0,
      "outputs": [
        {
          "output_type": "stream",
          "text": [
            "Model: \"model_13\"\n",
            "__________________________________________________________________________________________________\n",
            "Layer (type)                    Output Shape         Param #     Connected to                     \n",
            "==================================================================================================\n",
            "input_53 (InputLayer)           [(None, 5)]          0                                            \n",
            "__________________________________________________________________________________________________\n",
            "embedding_26 (Embedding)        (None, 5, 32)        160         input_53[0][0]                   \n",
            "__________________________________________________________________________________________________\n",
            "input_54 (InputLayer)           [(None, 4)]          0                                            \n",
            "__________________________________________________________________________________________________\n",
            "positional_encoding_30 (Positio (None, 5, 32)        0           embedding_26[0][0]               \n",
            "__________________________________________________________________________________________________\n",
            "input_55 (InputLayer)           [(None, 1, 5)]       0                                            \n",
            "__________________________________________________________________________________________________\n",
            "embedding_27 (Embedding)        (None, 4, 32)        160         input_54[0][0]                   \n",
            "__________________________________________________________________________________________________\n",
            "encoder_layer_42 (EncoderLayer) (None, None, 32)     12704       positional_encoding_30[0][0]     \n",
            "__________________________________________________________________________________________________\n",
            "positional_encoding_31 (Positio (None, 4, 32)        0           embedding_27[0][0]               \n",
            "__________________________________________________________________________________________________\n",
            "encoder_layer_43 (EncoderLayer) (None, None, 32)     12704       encoder_layer_42[0][0]           \n",
            "__________________________________________________________________________________________________\n",
            "input_56 (InputLayer)           [(None, 4, 4)]       0                                            \n",
            "__________________________________________________________________________________________________\n",
            "decoder_layer_42 (DecoderLayer) (None, None, 32)     12768       positional_encoding_31[0][0]     \n",
            "__________________________________________________________________________________________________\n",
            "decoder_layer_43 (DecoderLayer) (None, None, 32)     12768       decoder_layer_42[0][0]           \n",
            "__________________________________________________________________________________________________\n",
            "generator_13 (Generator)        (None, None, 5)      165         decoder_layer_43[0][0]           \n",
            "==================================================================================================\n",
            "Total params: 51,429\n",
            "Trainable params: 51,429\n",
            "Non-trainable params: 0\n",
            "__________________________________________________________________________________________________\n"
          ],
          "name": "stdout"
        }
      ]
    },
    {
      "cell_type": "code",
      "metadata": {
        "colab_type": "code",
        "id": "rGgZxmruEi_a",
        "colab": {}
      },
      "source": [
        "opt = tf.keras.optimizers.Adam(0.001, beta_1=0.9, beta_2=0.98, epsilon=1e-9)\n",
        "loss = tf.keras.losses.SparseCategoricalCrossentropy(from_logits=True)\n",
        "accuracy = tf.keras.metrics.SparseCategoricalAccuracy()\n",
        "    \n",
        "model.compile(\n",
        "    loss=loss,\n",
        "    optimizer=opt,\n",
        "    metrics=[accuracy]\n",
        ")"
      ],
      "execution_count": 0,
      "outputs": []
    },
    {
      "cell_type": "code",
      "metadata": {
        "colab_type": "code",
        "id": "qGJci161Ei6P",
        "outputId": "44e61c27-605d-4435-fb8f-1e97ccff0cda",
        "colab": {
          "base_uri": "https://localhost:8080/",
          "height": 1000
        }
      },
      "source": [
        "history = model.fit(\n",
        "    X_train,\n",
        "    y_train,\n",
        "    batch_size=64,\n",
        "    epochs=100\n",
        ")"
      ],
      "execution_count": 0,
      "outputs": [
        {
          "output_type": "stream",
          "text": [
            "Train on 5000 samples\n",
            "Epoch 1/100\n",
            "5000/5000 [==============================] - 8s 2ms/sample - loss: 0.9779 - sparse_categorical_accuracy: 0.4856\n",
            "Epoch 2/100\n",
            "5000/5000 [==============================] - 2s 405us/sample - loss: 0.3637 - sparse_categorical_accuracy: 0.8466\n",
            "Epoch 3/100\n",
            "5000/5000 [==============================] - 2s 411us/sample - loss: 0.0250 - sparse_categorical_accuracy: 0.9941\n",
            "Epoch 4/100\n",
            "5000/5000 [==============================] - 2s 405us/sample - loss: 0.0070 - sparse_categorical_accuracy: 0.9987\n",
            "Epoch 5/100\n",
            "5000/5000 [==============================] - 2s 407us/sample - loss: 0.0075 - sparse_categorical_accuracy: 0.9980\n",
            "Epoch 6/100\n",
            "5000/5000 [==============================] - 2s 401us/sample - loss: 0.0027 - sparse_categorical_accuracy: 0.9994\n",
            "Epoch 7/100\n",
            "5000/5000 [==============================] - 2s 400us/sample - loss: 0.0014 - sparse_categorical_accuracy: 0.9998\n",
            "Epoch 8/100\n",
            "5000/5000 [==============================] - 2s 410us/sample - loss: 7.1151e-04 - sparse_categorical_accuracy: 0.9999\n",
            "Epoch 9/100\n",
            "5000/5000 [==============================] - 2s 404us/sample - loss: 0.0024 - sparse_categorical_accuracy: 0.9992\n",
            "Epoch 10/100\n",
            "5000/5000 [==============================] - 2s 413us/sample - loss: 0.0016 - sparse_categorical_accuracy: 0.9995\n",
            "Epoch 11/100\n",
            "5000/5000 [==============================] - 2s 401us/sample - loss: 2.7851e-04 - sparse_categorical_accuracy: 1.0000\n",
            "Epoch 12/100\n",
            "5000/5000 [==============================] - 2s 400us/sample - loss: 0.0013 - sparse_categorical_accuracy: 0.9997\n",
            "Epoch 13/100\n",
            "5000/5000 [==============================] - 2s 405us/sample - loss: 0.0023 - sparse_categorical_accuracy: 0.9993\n",
            "Epoch 14/100\n",
            "5000/5000 [==============================] - 2s 410us/sample - loss: 8.5395e-04 - sparse_categorical_accuracy: 0.9998\n",
            "Epoch 15/100\n",
            "5000/5000 [==============================] - 2s 400us/sample - loss: 7.7404e-05 - sparse_categorical_accuracy: 1.0000\n",
            "Epoch 16/100\n",
            "5000/5000 [==============================] - 2s 400us/sample - loss: 0.0016 - sparse_categorical_accuracy: 0.9996\n",
            "Epoch 17/100\n",
            "5000/5000 [==============================] - 2s 407us/sample - loss: 1.1154e-04 - sparse_categorical_accuracy: 1.0000\n",
            "Epoch 18/100\n",
            "5000/5000 [==============================] - 2s 408us/sample - loss: 2.3581e-05 - sparse_categorical_accuracy: 1.0000\n",
            "Epoch 19/100\n",
            "5000/5000 [==============================] - 2s 403us/sample - loss: 1.2511e-05 - sparse_categorical_accuracy: 1.0000\n",
            "Epoch 20/100\n",
            "5000/5000 [==============================] - 2s 404us/sample - loss: 2.2342e-04 - sparse_categorical_accuracy: 0.9999\n",
            "Epoch 21/100\n",
            "5000/5000 [==============================] - 2s 399us/sample - loss: 0.0017 - sparse_categorical_accuracy: 0.9998\n",
            "Epoch 22/100\n",
            "5000/5000 [==============================] - 2s 401us/sample - loss: 3.6750e-05 - sparse_categorical_accuracy: 1.0000\n",
            "Epoch 23/100\n",
            "5000/5000 [==============================] - 2s 409us/sample - loss: 8.0883e-06 - sparse_categorical_accuracy: 1.0000\n",
            "Epoch 24/100\n",
            "5000/5000 [==============================] - 2s 404us/sample - loss: 9.0118e-05 - sparse_categorical_accuracy: 0.9999\n",
            "Epoch 25/100\n",
            "5000/5000 [==============================] - 2s 400us/sample - loss: 0.0030 - sparse_categorical_accuracy: 0.9995\n",
            "Epoch 26/100\n",
            "5000/5000 [==============================] - 2s 407us/sample - loss: 9.6100e-04 - sparse_categorical_accuracy: 0.9998\n",
            "Epoch 27/100\n",
            "5000/5000 [==============================] - 2s 404us/sample - loss: 2.7020e-05 - sparse_categorical_accuracy: 1.0000\n",
            "Epoch 28/100\n",
            "5000/5000 [==============================] - 2s 405us/sample - loss: 0.0017 - sparse_categorical_accuracy: 0.9997\n",
            "Epoch 29/100\n",
            "5000/5000 [==============================] - 2s 402us/sample - loss: 1.6794e-05 - sparse_categorical_accuracy: 1.0000\n",
            "Epoch 30/100\n",
            "5000/5000 [==============================] - 2s 408us/sample - loss: 1.7839e-05 - sparse_categorical_accuracy: 1.0000\n",
            "Epoch 31/100\n",
            "5000/5000 [==============================] - 2s 403us/sample - loss: 4.6772e-06 - sparse_categorical_accuracy: 1.0000\n",
            "Epoch 32/100\n",
            "5000/5000 [==============================] - 2s 404us/sample - loss: 0.0013 - sparse_categorical_accuracy: 0.9998\n",
            "Epoch 33/100\n",
            "5000/5000 [==============================] - 2s 406us/sample - loss: 8.9124e-04 - sparse_categorical_accuracy: 0.9997\n",
            "Epoch 34/100\n",
            "5000/5000 [==============================] - 2s 403us/sample - loss: 5.9503e-05 - sparse_categorical_accuracy: 1.0000\n",
            "Epoch 35/100\n",
            "5000/5000 [==============================] - 2s 417us/sample - loss: 7.4645e-05 - sparse_categorical_accuracy: 0.9999\n",
            "Epoch 36/100\n",
            "5000/5000 [==============================] - 2s 398us/sample - loss: 9.2333e-04 - sparse_categorical_accuracy: 0.9998\n",
            "Epoch 37/100\n",
            "5000/5000 [==============================] - 2s 408us/sample - loss: 1.1877e-05 - sparse_categorical_accuracy: 1.0000\n",
            "Epoch 38/100\n",
            "5000/5000 [==============================] - 2s 411us/sample - loss: 4.7773e-06 - sparse_categorical_accuracy: 1.0000\n",
            "Epoch 39/100\n",
            "5000/5000 [==============================] - 2s 408us/sample - loss: 3.7135e-06 - sparse_categorical_accuracy: 1.0000\n",
            "Epoch 40/100\n",
            "5000/5000 [==============================] - 2s 403us/sample - loss: 2.2517e-06 - sparse_categorical_accuracy: 1.0000\n",
            "Epoch 41/100\n",
            "5000/5000 [==============================] - 2s 396us/sample - loss: 1.4236e-06 - sparse_categorical_accuracy: 1.0000\n",
            "Epoch 42/100\n",
            "5000/5000 [==============================] - 2s 397us/sample - loss: 1.0249e-06 - sparse_categorical_accuracy: 1.0000\n",
            "Epoch 43/100\n",
            "5000/5000 [==============================] - 2s 398us/sample - loss: 4.6252e-06 - sparse_categorical_accuracy: 1.0000\n",
            "Epoch 44/100\n",
            "5000/5000 [==============================] - 2s 399us/sample - loss: 0.0028 - sparse_categorical_accuracy: 0.9995\n",
            "Epoch 45/100\n",
            "5000/5000 [==============================] - 2s 406us/sample - loss: 0.0012 - sparse_categorical_accuracy: 0.9998\n",
            "Epoch 46/100\n",
            "5000/5000 [==============================] - 2s 400us/sample - loss: 1.1590e-05 - sparse_categorical_accuracy: 1.0000\n",
            "Epoch 47/100\n",
            "5000/5000 [==============================] - 2s 401us/sample - loss: 1.8279e-06 - sparse_categorical_accuracy: 1.0000\n",
            "Epoch 48/100\n",
            "5000/5000 [==============================] - 2s 401us/sample - loss: 8.3777e-07 - sparse_categorical_accuracy: 1.0000\n",
            "Epoch 49/100\n",
            "5000/5000 [==============================] - 2s 400us/sample - loss: 1.1127e-06 - sparse_categorical_accuracy: 1.0000\n",
            "Epoch 50/100\n",
            "5000/5000 [==============================] - 2s 401us/sample - loss: 7.7014e-07 - sparse_categorical_accuracy: 1.0000\n",
            "Epoch 51/100\n",
            "5000/5000 [==============================] - 2s 404us/sample - loss: 3.6611e-07 - sparse_categorical_accuracy: 1.0000\n",
            "Epoch 52/100\n",
            "5000/5000 [==============================] - 2s 406us/sample - loss: 3.2740e-07 - sparse_categorical_accuracy: 1.0000\n",
            "Epoch 53/100\n",
            "5000/5000 [==============================] - 2s 408us/sample - loss: 2.0848e-07 - sparse_categorical_accuracy: 1.0000\n",
            "Epoch 54/100\n",
            "5000/5000 [==============================] - 2s 406us/sample - loss: 1.0731e-07 - sparse_categorical_accuracy: 1.0000\n",
            "Epoch 55/100\n",
            "5000/5000 [==============================] - 2s 403us/sample - loss: 6.1893e-08 - sparse_categorical_accuracy: 1.0000\n",
            "Epoch 56/100\n",
            "5000/5000 [==============================] - 2s 401us/sample - loss: 3.0076e-08 - sparse_categorical_accuracy: 1.0000\n",
            "Epoch 57/100\n",
            "5000/5000 [==============================] - 2s 404us/sample - loss: 8.2552e-09 - sparse_categorical_accuracy: 1.0000\n",
            "Epoch 58/100\n",
            "5000/5000 [==============================] - 2s 404us/sample - loss: 0.0010 - sparse_categorical_accuracy: 0.9998\n",
            "Epoch 59/100\n",
            "5000/5000 [==============================] - 2s 400us/sample - loss: 6.4397e-04 - sparse_categorical_accuracy: 0.9998\n",
            "Epoch 60/100\n",
            "5000/5000 [==============================] - 2s 402us/sample - loss: 4.8909e-05 - sparse_categorical_accuracy: 1.0000\n",
            "Epoch 61/100\n",
            "5000/5000 [==============================] - 2s 398us/sample - loss: 1.0541e-06 - sparse_categorical_accuracy: 1.0000\n",
            "Epoch 62/100\n",
            "5000/5000 [==============================] - 2s 421us/sample - loss: 0.0020 - sparse_categorical_accuracy: 0.9997\n",
            "Epoch 63/100\n",
            "5000/5000 [==============================] - 2s 424us/sample - loss: 9.1505e-04 - sparse_categorical_accuracy: 0.9998\n",
            "Epoch 64/100\n",
            "5000/5000 [==============================] - 2s 426us/sample - loss: 7.4431e-05 - sparse_categorical_accuracy: 0.9999\n",
            "Epoch 65/100\n",
            "5000/5000 [==============================] - 2s 430us/sample - loss: 3.9884e-06 - sparse_categorical_accuracy: 1.0000\n",
            "Epoch 66/100\n",
            "5000/5000 [==============================] - 2s 415us/sample - loss: 0.0021 - sparse_categorical_accuracy: 0.9994\n",
            "Epoch 67/100\n",
            "5000/5000 [==============================] - 2s 401us/sample - loss: 3.8774e-04 - sparse_categorical_accuracy: 0.9999\n",
            "Epoch 68/100\n",
            "5000/5000 [==============================] - 2s 403us/sample - loss: 4.3531e-06 - sparse_categorical_accuracy: 1.0000\n",
            "Epoch 69/100\n",
            "5000/5000 [==============================] - 2s 404us/sample - loss: 1.0320e-04 - sparse_categorical_accuracy: 0.9999\n",
            "Epoch 70/100\n",
            "5000/5000 [==============================] - 2s 404us/sample - loss: 0.0012 - sparse_categorical_accuracy: 0.9998\n",
            "Epoch 71/100\n",
            "5000/5000 [==============================] - 2s 402us/sample - loss: 4.2173e-04 - sparse_categorical_accuracy: 0.9998\n",
            "Epoch 72/100\n",
            "5000/5000 [==============================] - 2s 405us/sample - loss: 7.8895e-04 - sparse_categorical_accuracy: 0.9998\n",
            "Epoch 73/100\n",
            "5000/5000 [==============================] - 2s 403us/sample - loss: 1.4252e-06 - sparse_categorical_accuracy: 1.0000\n",
            "Epoch 74/100\n",
            "5000/5000 [==============================] - 2s 408us/sample - loss: 1.0462e-06 - sparse_categorical_accuracy: 1.0000\n",
            "Epoch 75/100\n",
            "5000/5000 [==============================] - 2s 401us/sample - loss: 9.7258e-07 - sparse_categorical_accuracy: 1.0000\n",
            "Epoch 76/100\n",
            "5000/5000 [==============================] - 2s 402us/sample - loss: 4.1082e-07 - sparse_categorical_accuracy: 1.0000\n",
            "Epoch 77/100\n",
            "5000/5000 [==============================] - 2s 403us/sample - loss: 2.3829e-07 - sparse_categorical_accuracy: 1.0000\n",
            "Epoch 78/100\n",
            "5000/5000 [==============================] - 2s 398us/sample - loss: 5.9908e-04 - sparse_categorical_accuracy: 0.9999\n",
            "Epoch 79/100\n",
            "5000/5000 [==============================] - 2s 403us/sample - loss: 0.0014 - sparse_categorical_accuracy: 0.9998\n",
            "Epoch 80/100\n",
            "5000/5000 [==============================] - 2s 404us/sample - loss: 3.9064e-05 - sparse_categorical_accuracy: 1.0000\n",
            "Epoch 81/100\n",
            "5000/5000 [==============================] - 2s 399us/sample - loss: 1.0816e-06 - sparse_categorical_accuracy: 1.0000\n",
            "Epoch 82/100\n",
            "5000/5000 [==============================] - 2s 396us/sample - loss: 6.6164e-06 - sparse_categorical_accuracy: 1.0000\n",
            "Epoch 83/100\n",
            "5000/5000 [==============================] - 2s 404us/sample - loss: 1.8132e-07 - sparse_categorical_accuracy: 1.0000\n",
            "Epoch 84/100\n",
            "5000/5000 [==============================] - 2s 401us/sample - loss: 4.2194e-07 - sparse_categorical_accuracy: 1.0000\n",
            "Epoch 85/100\n",
            "5000/5000 [==============================] - 2s 400us/sample - loss: 1.1997e-07 - sparse_categorical_accuracy: 1.0000\n",
            "Epoch 86/100\n",
            "5000/5000 [==============================] - 2s 401us/sample - loss: 4.8803e-05 - sparse_categorical_accuracy: 0.9999\n",
            "Epoch 87/100\n",
            "5000/5000 [==============================] - 2s 406us/sample - loss: 0.0013 - sparse_categorical_accuracy: 0.9997\n",
            "Epoch 88/100\n",
            "5000/5000 [==============================] - 2s 406us/sample - loss: 1.1496e-04 - sparse_categorical_accuracy: 0.9999\n",
            "Epoch 89/100\n",
            "5000/5000 [==============================] - 2s 401us/sample - loss: 6.0226e-07 - sparse_categorical_accuracy: 1.0000\n",
            "Epoch 90/100\n",
            "5000/5000 [==============================] - 2s 396us/sample - loss: 5.9989e-06 - sparse_categorical_accuracy: 1.0000\n",
            "Epoch 91/100\n",
            "5000/5000 [==============================] - 2s 398us/sample - loss: 9.7527e-07 - sparse_categorical_accuracy: 1.0000\n",
            "Epoch 92/100\n",
            "5000/5000 [==============================] - 2s 400us/sample - loss: 0.0031 - sparse_categorical_accuracy: 0.9996\n",
            "Epoch 93/100\n",
            "5000/5000 [==============================] - 2s 403us/sample - loss: 5.6864e-04 - sparse_categorical_accuracy: 0.9998\n",
            "Epoch 94/100\n",
            "5000/5000 [==============================] - 2s 411us/sample - loss: 5.8578e-07 - sparse_categorical_accuracy: 1.0000\n",
            "Epoch 95/100\n",
            "5000/5000 [==============================] - 2s 400us/sample - loss: 5.6029e-07 - sparse_categorical_accuracy: 1.0000\n",
            "Epoch 96/100\n",
            "5000/5000 [==============================] - 2s 398us/sample - loss: 2.2377e-06 - sparse_categorical_accuracy: 1.0000\n",
            "Epoch 97/100\n",
            "5000/5000 [==============================] - 2s 400us/sample - loss: 3.2358e-07 - sparse_categorical_accuracy: 1.0000\n",
            "Epoch 98/100\n",
            "5000/5000 [==============================] - 2s 406us/sample - loss: 1.3955e-07 - sparse_categorical_accuracy: 1.0000\n",
            "Epoch 99/100\n",
            "5000/5000 [==============================] - 2s 410us/sample - loss: 7.5345e-08 - sparse_categorical_accuracy: 1.0000\n",
            "Epoch 100/100\n",
            "5000/5000 [==============================] - 2s 404us/sample - loss: 7.1328e-08 - sparse_categorical_accuracy: 1.0000\n"
          ],
          "name": "stdout"
        }
      ]
    },
    {
      "cell_type": "code",
      "metadata": {
        "colab_type": "code",
        "id": "9pP44QkwEi3f",
        "outputId": "7fe90ddc-1c30-46d7-a587-699dd6061a18",
        "colab": {
          "base_uri": "https://localhost:8080/",
          "height": 573
        }
      },
      "source": [
        "# summarize history for accuracy\n",
        "plt.plot(history.history['sparse_categorical_accuracy'])\n",
        "plt.title('model accuracy')\n",
        "plt.ylabel('accuracy')\n",
        "plt.xlabel('epoch')\n",
        "plt.legend(['train', 'test'], loc='upper left')\n",
        "plt.show()\n",
        "\n",
        "# summarize history for loss\n",
        "plt.plot(history.history['loss'])\n",
        "plt.title('model loss')\n",
        "plt.ylabel('loss')\n",
        "plt.xlabel('epoch')\n",
        "plt.legend(['train', 'test'], loc='upper left')\n",
        "plt.show()"
      ],
      "execution_count": 0,
      "outputs": [
        {
          "output_type": "display_data",
          "data": {
            "image/png": "[encoded data removed]",
            "text/plain": [
              "<Figure size 432x288 with 1 Axes>"
            ]
          },
          "metadata": {
            "tags": []
          }
        },
        {
          "output_type": "display_data",
          "data": {
            "image/png": "[encoded data removed]",
            "text/plain": [
              "<Figure size 432x288 with 1 Axes>"
            ]
          },
          "metadata": {
            "tags": []
          }
        }
      ]
    },
    {
      "cell_type": "markdown",
      "metadata": {
        "colab_type": "text",
        "id": "hLdy6_22z7Xx"
      },
      "source": [
        "### Predict"
      ]
    },
    {
      "cell_type": "code",
      "metadata": {
        "colab_type": "code",
        "id": "pU-YJnhNErXC",
        "colab": {}
      },
      "source": [
        "## We tried to implement our own prediction function but ended up using the keras predict function \n",
        "def predict(x_test):\n",
        "    memory = transfo.encode(np.array([x_test[0]]), np.array([x_test[2]]))\n",
        "    tmp = np.zeros((1, len(x_test[1])), dtype='int32')\n",
        "    tmp[0][0] = 1\n",
        "    tmp = np.array([x_test[1]])\n",
        "    l = []\n",
        "    for i in range(seq_len-2):\n",
        "        tmp_look_ahead = x_test[3][i].reshape((1, -1))\n",
        "        dec = transfo.decode(memory, x_test[2], dec_x=tmp, look_ahead_mask=tmp_look_ahead)\n",
        "        gen = transfo.generate(dec)\n",
        "        out_argmax = np.argmax(gen, axis=2)[0][i]\n",
        "        l.append(out_argmax)\n",
        "        tmp[0][i+1] = out_argmax\n",
        "    return tmp"
      ],
      "execution_count": 0,
      "outputs": []
    },
    {
      "cell_type": "code",
      "metadata": {
        "colab_type": "code",
        "id": "7wuoZ45LHEtg",
        "outputId": "8e948da8-d54e-42da-d4b0-f4e354ab6e66",
        "colab": {
          "base_uri": "https://localhost:8080/",
          "height": 68
        }
      },
      "source": [
        "# ind == the index of the sentence we want to translate\n",
        "ind = 150\n",
        "l = np.argmax(model.predict(X_train), axis=2)[ind]\n",
        "print(l.shape, X_train[1].shape)\n",
        "pred = [dict_en[x] for x in list(l)]\n",
        "true = [dict_en[x] for x in list(X_train[1][ind])]\n",
        "print('sentence predicted:', pred)\n",
        "print('true sentence:     ', true[1:])"
      ],
      "execution_count": 0,
      "outputs": [
        {
          "output_type": "stream",
          "text": [
            "(4,) (5000, 4)\n",
            "sentence predicted: ['yes', 'student', 'no', '<end>']\n",
            "true sentence:      ['yes', 'student', 'no']\n"
          ],
          "name": "stdout"
        }
      ]
    },
    {
      "cell_type": "markdown",
      "metadata": {
        "colab_type": "text",
        "id": "uFh3oYltTk5L"
      },
      "source": [
        "## French-to-English Translation"
      ]
    },
    {
      "cell_type": "markdown",
      "metadata": {
        "colab_type": "text",
        "id": "HNURWIdYHRM9"
      },
      "source": [
        "For the main dataset, we are using is named \"Europarl\". It is a parallel corpus extracted from the proceedings of the European Parliament and it includes versions in 21 European languages. We chose the the English-French corpus with a size of 194 Mb and containing 51,388,643 french words as well as 50,196,035 english ones with a total of 2,007,723 sentences."
      ]
    },
    {
      "cell_type": "code",
      "metadata": {
        "colab_type": "code",
        "id": "ZhDNoJvnTk5P",
        "colab": {}
      },
      "source": [
        "def read_data(file_loc_, nb):\n",
        "    data_list = list()\n",
        "    with io.open(file_loc_) as fp:\n",
        "        i = 0\n",
        "        for line in fp:\n",
        "            i += 1\n",
        "            if i > nb:\n",
        "                break\n",
        "            try:\n",
        "                text = line.strip()\n",
        "            except IndexError:\n",
        "                text = self.empty_line_flag\n",
        "            data_list.append(text)\n",
        "    return data_list"
      ],
      "execution_count": 0,
      "outputs": []
    },
    {
      "cell_type": "code",
      "metadata": {
        "colab_type": "code",
        "id": "L4NZ_8-SUF6B",
        "colab": {}
      },
      "source": [
        "path_en = '/content/drive/My Drive/pfe/english.txt'\n",
        "path_fr = '/content/drive/My Drive/pfe/french.txt'"
      ],
      "execution_count": 0,
      "outputs": []
    },
    {
      "cell_type": "code",
      "metadata": {
        "colab_type": "code",
        "id": "ZXyFOcYLGDuF",
        "colab": {}
      },
      "source": [
        "nb = 10000\n",
        "data_en = read_data(path_en, nb)\n",
        "data_fr = read_data(path_fr, nb)"
      ],
      "execution_count": 0,
      "outputs": []
    },
    {
      "cell_type": "code",
      "metadata": {
        "colab_type": "code",
        "id": "cFJ1BMt4GGGv",
        "outputId": "c1c2b265-eed1-4a8a-9226-2feb01399583",
        "colab": {
          "base_uri": "https://localhost:8080/",
          "height": 88
        }
      },
      "source": [
        "print(len(data_en), len(data_fr))\n",
        "print(data_en[4])\n",
        "print(data_fr[4])"
      ],
      "execution_count": 0,
      "outputs": [
        {
          "output_type": "stream",
          "text": [
            "10000 10000\n",
            "In the meantime, I should like to observe a minute' s silence, as a number of Members have requested, on behalf of all the victims concerned, particularly those of the terrible storms, in the various countries of the European Union.\n",
            "En attendant, je souhaiterais, comme un certain nombre de collègues me l'ont demandé, que nous observions une minute de silence pour toutes les victimes, des tempêtes notamment, dans les différents pays de l'Union européenne qui ont été touchés.\n"
          ],
          "name": "stdout"
        }
      ]
    },
    {
      "cell_type": "markdown",
      "metadata": {
        "colab_type": "text",
        "id": "buvBGdN7gkrV"
      },
      "source": [
        "- Due to a lack of computing power, we decided to train our model only on a part of our dataset with sentences of less than 15 words each. \n",
        "\n",
        "- We trained our model on 450 epochs with a small batch size of 32 and with a learning rate of 0.01. The results were satisfying as we got an accuracy of more than 95%texte en gras and signficantly low loss. Then, we calculated the bleu score for a few predicted sentences to compare with the original ones. The BLEU score is a metric for evaluating a generated sentence to a reference sentence and it takes a value between 0.0 and 1, as a perfect translation would be a 1. In our case, we generally got a value above 0.9 on our tested samples.\n"
      ]
    },
    {
      "cell_type": "code",
      "metadata": {
        "colab_type": "code",
        "id": "oK4dCW7iTzWO",
        "colab": {}
      },
      "source": [
        "tokenizer = RegexpTokenizer(r'\\w+')\n",
        "\n",
        "data_en = preprocess(data_en,tokenizer)\n",
        "data_fr = preprocess(data_fr,tokenizer)\n",
        "\n",
        "dict_fr = Dictionary(data_fr)\n",
        "dict_en = Dictionary(data_en)\n",
        "\n",
        "\n",
        "data_french = []\n",
        "data_english = []\n",
        "for doc1, doc2 in zip(data_fr, data_en):\n",
        "  if len(doc1) < 15 and len(doc2) < 15 : \n",
        "    data_french.append(dict_fr.doc2idx(doc1))\n",
        "    data_english.append(dict_en.doc2idx(doc2))\n",
        "\n",
        "  \n",
        "data_fr = data_french\n",
        "data_en = data_english"
      ],
      "execution_count": 0,
      "outputs": []
    },
    {
      "cell_type": "code",
      "metadata": {
        "colab_type": "code",
        "id": "8qhh2ZweGF_W",
        "outputId": "d7a3f30d-2a35-4849-b931-d418dca8269a",
        "colab": {
          "base_uri": "https://localhost:8080/",
          "height": 85
        }
      },
      "source": [
        "print('Number of unique tokens (fr): %d' % len(dict_fr))\n",
        "print('Number of documents (fr): %d' % len(data_fr))\n",
        "\n",
        "print('Number of unique tokens (en): %d' % len(dict_en))\n",
        "print('Number of documents (en): %d' % len(data_en))"
      ],
      "execution_count": 0,
      "outputs": [
        {
          "output_type": "stream",
          "text": [
            "Number of unique tokens (fr): 13902\n",
            "Number of documents (fr): 1583\n",
            "Number of unique tokens (en): 10295\n",
            "Number of documents (en): 1583\n"
          ],
          "name": "stdout"
        }
      ]
    },
    {
      "cell_type": "code",
      "metadata": {
        "colab_type": "code",
        "id": "5XPLjemnGF8O",
        "outputId": "50dd2bc2-6b33-425f-f363-c7a09d1d8b5d",
        "colab": {
          "base_uri": "https://localhost:8080/",
          "height": 34
        }
      },
      "source": [
        "seq_len = max(np.max([len(c) for c in data_fr]), np.max([len(c) for c in data_en]))\n",
        "print(seq_len)"
      ],
      "execution_count": 0,
      "outputs": [
        {
          "output_type": "stream",
          "text": [
            "14\n"
          ],
          "name": "stdout"
        }
      ]
    },
    {
      "cell_type": "code",
      "metadata": {
        "colab_type": "code",
        "id": "1JgCdzYrGF6h",
        "outputId": "aafa6e09-39bf-4b70-b767-1cb711456e8d",
        "colab": {
          "base_uri": "https://localhost:8080/",
          "height": 51
        }
      },
      "source": [
        "data_fr = [list(np.pad(c, (0, seq_len - len(c)))) for c in data_fr]\n",
        "data_en = [list(np.pad(c, (0, seq_len - len(c)))) for c in data_en]\n",
        "\n",
        "src = np.array(data_fr)\n",
        "tgt = np.array(data_en)\n",
        "\n",
        "src[4], tgt[4]"
      ],
      "execution_count": 0,
      "outputs": [
        {
          "output_type": "execute_result",
          "data": {
            "text/plain": [
              "(array([ 1, 95,  3, 98, 94, 40, 88, 96,  2, 97,  0,  0,  0,  0]),\n",
              " array([ 1, 89, 92, 22,  6, 91,  2, 90,  0,  0,  0,  0,  0,  0]))"
            ]
          },
          "metadata": {
            "tags": []
          },
          "execution_count": 283
        }
      ]
    },
    {
      "cell_type": "code",
      "metadata": {
        "colab_type": "code",
        "id": "MwEnOp6zGa3-",
        "colab": {}
      },
      "source": [
        "trg, src_mask, ahead_mask = make_masks(src, tgt)"
      ],
      "execution_count": 0,
      "outputs": []
    },
    {
      "cell_type": "code",
      "metadata": {
        "colab_type": "code",
        "id": "DB5rVgHeGa1a",
        "colab": {}
      },
      "source": [
        "X_train = [src, trg, src_mask, ahead_mask]\n",
        "y_train = tgt[:,1:]"
      ],
      "execution_count": 0,
      "outputs": []
    },
    {
      "cell_type": "code",
      "metadata": {
        "colab_type": "code",
        "id": "yGpK8UlhGazE",
        "outputId": "1b69f60f-54bd-4040-bab0-cac5c5d393fa",
        "colab": {
          "base_uri": "https://localhost:8080/",
          "height": 595
        }
      },
      "source": [
        "enc_x = Input(shape=(seq_len,))\n",
        "dec_x = Input(shape=(seq_len-1,))\n",
        "enc_padding_mask = Input(shape=(1, seq_len))\n",
        "look_ahead_mask = Input(shape=(seq_len-1, seq_len-1))\n",
        "\n",
        "input_vocab_size = len(dict_fr)\n",
        "target_vocab_size = len(dict_en)\n",
        "\n",
        "d_model = 32\n",
        "d_feedforward = 128\n",
        "num_heads = 2\n",
        "num_layers = 2\n",
        "rate = 0.01\n",
        "transfo = Transformer(num_layers, d_model, num_heads, d_feedforward, \n",
        "                      input_vocab_size, target_vocab_size, rate)\n",
        "\n",
        "output = transfo.call(enc_x, dec_x, enc_padding_mask, look_ahead_mask)\n",
        "model = Model(inputs=[enc_x, dec_x, enc_padding_mask, look_ahead_mask], outputs=output)\n",
        "model.summary()"
      ],
      "execution_count": 0,
      "outputs": [
        {
          "output_type": "stream",
          "text": [
            "Model: \"model_10\"\n",
            "__________________________________________________________________________________________________\n",
            "Layer (type)                    Output Shape         Param #     Connected to                     \n",
            "==================================================================================================\n",
            "input_41 (InputLayer)           [(None, 14)]         0                                            \n",
            "__________________________________________________________________________________________________\n",
            "embedding_20 (Embedding)        (None, 14, 32)       444864      input_41[0][0]                   \n",
            "__________________________________________________________________________________________________\n",
            "input_42 (InputLayer)           [(None, 13)]         0                                            \n",
            "__________________________________________________________________________________________________\n",
            "positional_encoding_24 (Positio (None, 14, 32)       0           embedding_20[0][0]               \n",
            "__________________________________________________________________________________________________\n",
            "input_43 (InputLayer)           [(None, 1, 14)]      0                                            \n",
            "__________________________________________________________________________________________________\n",
            "embedding_21 (Embedding)        (None, 13, 32)       329440      input_42[0][0]                   \n",
            "__________________________________________________________________________________________________\n",
            "encoder_layer_32 (EncoderLayer) (None, None, 32)     12704       positional_encoding_24[0][0]     \n",
            "__________________________________________________________________________________________________\n",
            "positional_encoding_25 (Positio (None, 13, 32)       0           embedding_21[0][0]               \n",
            "__________________________________________________________________________________________________\n",
            "encoder_layer_33 (EncoderLayer) (None, None, 32)     12704       encoder_layer_32[0][0]           \n",
            "__________________________________________________________________________________________________\n",
            "input_44 (InputLayer)           [(None, 13, 13)]     0                                            \n",
            "__________________________________________________________________________________________________\n",
            "decoder_layer_32 (DecoderLayer) (None, None, 32)     12768       positional_encoding_25[0][0]     \n",
            "__________________________________________________________________________________________________\n",
            "decoder_layer_33 (DecoderLayer) (None, None, 32)     12768       decoder_layer_32[0][0]           \n",
            "__________________________________________________________________________________________________\n",
            "generator_10 (Generator)        (None, None, 10295)  339735      decoder_layer_33[0][0]           \n",
            "==================================================================================================\n",
            "Total params: 1,164,983\n",
            "Trainable params: 1,164,983\n",
            "Non-trainable params: 0\n",
            "__________________________________________________________________________________________________\n"
          ],
          "name": "stdout"
        }
      ]
    },
    {
      "cell_type": "code",
      "metadata": {
        "colab_type": "code",
        "id": "PvvcA16yGawW",
        "colab": {}
      },
      "source": [
        "opt = tf.keras.optimizers.Adam(0.001, beta_1=0.9, beta_2=0.98, epsilon=1e-9)\n",
        "loss = tf.keras.losses.SparseCategoricalCrossentropy(from_logits=True)\n",
        "accuracy = tf.keras.metrics.SparseCategoricalAccuracy()\n",
        "    \n",
        "model.compile(\n",
        "    loss=loss,\n",
        "    optimizer=opt,\n",
        "    metrics=[accuracy]\n",
        ")"
      ],
      "execution_count": 0,
      "outputs": []
    },
    {
      "cell_type": "code",
      "metadata": {
        "colab_type": "code",
        "id": "shpOhoh_G1x9",
        "outputId": "06f4e6f4-173a-40fc-ecdc-57d71254b0a7",
        "colab": {
          "base_uri": "https://localhost:8080/",
          "height": 1000
        }
      },
      "source": [
        "history = model.fit(\n",
        "    X_train,\n",
        "    y_train,\n",
        "    batch_size=32,\n",
        "    epochs=450\n",
        ")"
      ],
      "execution_count": 0,
      "outputs": [
        {
          "output_type": "stream",
          "text": [
            "Train on 1583 samples\n",
            "Epoch 1/450\n",
            "1583/1583 [==============================] - 10s 6ms/sample - loss: 8.0807 - sparse_categorical_accuracy: 0.3934\n",
            "Epoch 2/450\n",
            "1583/1583 [==============================] - 2s 1ms/sample - loss: 5.8601 - sparse_categorical_accuracy: 0.4148\n",
            "Epoch 3/450\n",
            "1583/1583 [==============================] - 2s 1ms/sample - loss: 4.5777 - sparse_categorical_accuracy: 0.4148\n",
            "Epoch 4/450\n",
            "1583/1583 [==============================] - 2s 1ms/sample - loss: 4.0979 - sparse_categorical_accuracy: 0.4148\n",
            "Epoch 5/450\n",
            "1583/1583 [==============================] - 2s 1ms/sample - loss: 3.8334 - sparse_categorical_accuracy: 0.4157\n",
            "Epoch 6/450\n",
            "1583/1583 [==============================] - 2s 1ms/sample - loss: 3.7025 - sparse_categorical_accuracy: 0.4386\n",
            "Epoch 7/450\n",
            "1583/1583 [==============================] - 2s 1ms/sample - loss: 3.6142 - sparse_categorical_accuracy: 0.4481\n",
            "Epoch 8/450\n",
            "1583/1583 [==============================] - 2s 1ms/sample - loss: 3.5418 - sparse_categorical_accuracy: 0.4535\n",
            "Epoch 9/450\n",
            "1583/1583 [==============================] - 2s 1ms/sample - loss: 3.4756 - sparse_categorical_accuracy: 0.4551\n",
            "Epoch 10/450\n",
            "1583/1583 [==============================] - 2s 1ms/sample - loss: 3.4310 - sparse_categorical_accuracy: 0.4551\n",
            "Epoch 11/450\n",
            "1583/1583 [==============================] - 2s 1ms/sample - loss: 3.3853 - sparse_categorical_accuracy: 0.4557\n",
            "Epoch 12/450\n",
            "1583/1583 [==============================] - 2s 1ms/sample - loss: 3.3422 - sparse_categorical_accuracy: 0.4581\n",
            "Epoch 13/450\n",
            "1583/1583 [==============================] - 2s 1ms/sample - loss: 3.3124 - sparse_categorical_accuracy: 0.4578\n",
            "Epoch 14/450\n",
            "1583/1583 [==============================] - 2s 1ms/sample - loss: 3.2837 - sparse_categorical_accuracy: 0.4591\n",
            "Epoch 15/450\n",
            "1583/1583 [==============================] - 2s 1ms/sample - loss: 3.2501 - sparse_categorical_accuracy: 0.4601\n",
            "Epoch 16/450\n",
            "1583/1583 [==============================] - 2s 1ms/sample - loss: 3.2181 - sparse_categorical_accuracy: 0.4609\n",
            "Epoch 17/450\n",
            "1583/1583 [==============================] - 2s 1ms/sample - loss: 3.1910 - sparse_categorical_accuracy: 0.4640\n",
            "Epoch 18/450\n",
            "1583/1583 [==============================] - 2s 1ms/sample - loss: 3.1608 - sparse_categorical_accuracy: 0.4655\n",
            "Epoch 19/450\n",
            "1583/1583 [==============================] - 2s 1ms/sample - loss: 3.1281 - sparse_categorical_accuracy: 0.4703\n",
            "Epoch 20/450\n",
            "1583/1583 [==============================] - 2s 1ms/sample - loss: 3.0900 - sparse_categorical_accuracy: 0.4718\n",
            "Epoch 21/450\n",
            "1583/1583 [==============================] - 2s 1ms/sample - loss: 3.0566 - sparse_categorical_accuracy: 0.4733\n",
            "Epoch 22/450\n",
            "1583/1583 [==============================] - 2s 1ms/sample - loss: 3.0242 - sparse_categorical_accuracy: 0.4780\n",
            "Epoch 23/450\n",
            "1583/1583 [==============================] - 2s 1ms/sample - loss: 2.9852 - sparse_categorical_accuracy: 0.4800\n",
            "Epoch 24/450\n",
            "1583/1583 [==============================] - 2s 1ms/sample - loss: 2.9493 - sparse_categorical_accuracy: 0.4816\n",
            "Epoch 25/450\n",
            "1583/1583 [==============================] - 2s 1ms/sample - loss: 2.9084 - sparse_categorical_accuracy: 0.4864\n",
            "Epoch 26/450\n",
            "1583/1583 [==============================] - 2s 1ms/sample - loss: 2.8832 - sparse_categorical_accuracy: 0.4875\n",
            "Epoch 27/450\n",
            "1583/1583 [==============================] - 2s 1ms/sample - loss: 2.8457 - sparse_categorical_accuracy: 0.4903\n",
            "Epoch 28/450\n",
            "1583/1583 [==============================] - 2s 1ms/sample - loss: 2.8078 - sparse_categorical_accuracy: 0.4936\n",
            "Epoch 29/450\n",
            "1583/1583 [==============================] - 2s 1ms/sample - loss: 2.7771 - sparse_categorical_accuracy: 0.4980\n",
            "Epoch 30/450\n",
            "1583/1583 [==============================] - 2s 1ms/sample - loss: 2.7396 - sparse_categorical_accuracy: 0.5008\n",
            "Epoch 31/450\n",
            "1583/1583 [==============================] - 2s 1ms/sample - loss: 2.7097 - sparse_categorical_accuracy: 0.5025\n",
            "Epoch 32/450\n",
            "1583/1583 [==============================] - 2s 1ms/sample - loss: 2.6774 - sparse_categorical_accuracy: 0.5044\n",
            "Epoch 33/450\n",
            "1583/1583 [==============================] - 2s 1ms/sample - loss: 2.6425 - sparse_categorical_accuracy: 0.5061\n",
            "Epoch 34/450\n",
            "1583/1583 [==============================] - 2s 1ms/sample - loss: 2.6192 - sparse_categorical_accuracy: 0.5105\n",
            "Epoch 35/450\n",
            "1583/1583 [==============================] - 2s 1ms/sample - loss: 2.5778 - sparse_categorical_accuracy: 0.5136\n",
            "Epoch 36/450\n",
            "1583/1583 [==============================] - 2s 1ms/sample - loss: 2.5579 - sparse_categorical_accuracy: 0.5150\n",
            "Epoch 37/450\n",
            "1583/1583 [==============================] - 2s 1ms/sample - loss: 2.5217 - sparse_categorical_accuracy: 0.5172\n",
            "Epoch 38/450\n",
            "1583/1583 [==============================] - 2s 1ms/sample - loss: 2.4941 - sparse_categorical_accuracy: 0.5175\n",
            "Epoch 39/450\n",
            "1583/1583 [==============================] - 2s 1ms/sample - loss: 2.4531 - sparse_categorical_accuracy: 0.5223\n",
            "Epoch 40/450\n",
            "1583/1583 [==============================] - 2s 1ms/sample - loss: 2.4295 - sparse_categorical_accuracy: 0.5245\n",
            "Epoch 41/450\n",
            "1583/1583 [==============================] - 2s 1ms/sample - loss: 2.3985 - sparse_categorical_accuracy: 0.5263\n",
            "Epoch 42/450\n",
            "1583/1583 [==============================] - 2s 1ms/sample - loss: 2.3722 - sparse_categorical_accuracy: 0.5273\n",
            "Epoch 43/450\n",
            "1583/1583 [==============================] - 2s 1ms/sample - loss: 2.3318 - sparse_categorical_accuracy: 0.5329\n",
            "Epoch 44/450\n",
            "1583/1583 [==============================] - 2s 1ms/sample - loss: 2.3087 - sparse_categorical_accuracy: 0.5344\n",
            "Epoch 45/450\n",
            "1583/1583 [==============================] - 2s 1ms/sample - loss: 2.2783 - sparse_categorical_accuracy: 0.5360\n",
            "Epoch 46/450\n",
            "1583/1583 [==============================] - 2s 1ms/sample - loss: 2.2526 - sparse_categorical_accuracy: 0.5371\n",
            "Epoch 47/450\n",
            "1583/1583 [==============================] - 2s 1ms/sample - loss: 2.2135 - sparse_categorical_accuracy: 0.5439\n",
            "Epoch 48/450\n",
            "1583/1583 [==============================] - 2s 1ms/sample - loss: 2.2008 - sparse_categorical_accuracy: 0.5417\n",
            "Epoch 49/450\n",
            "1583/1583 [==============================] - 2s 1ms/sample - loss: 2.1755 - sparse_categorical_accuracy: 0.5468\n",
            "Epoch 50/450\n",
            "1583/1583 [==============================] - 2s 1ms/sample - loss: 2.1438 - sparse_categorical_accuracy: 0.5495\n",
            "Epoch 51/450\n",
            "1583/1583 [==============================] - 2s 1ms/sample - loss: 2.1194 - sparse_categorical_accuracy: 0.5530\n",
            "Epoch 52/450\n",
            "1583/1583 [==============================] - 2s 1ms/sample - loss: 2.0868 - sparse_categorical_accuracy: 0.5561\n",
            "Epoch 53/450\n",
            "1583/1583 [==============================] - 2s 1ms/sample - loss: 2.0545 - sparse_categorical_accuracy: 0.5630\n",
            "Epoch 54/450\n",
            "1583/1583 [==============================] - 2s 1ms/sample - loss: 2.0308 - sparse_categorical_accuracy: 0.5640\n",
            "Epoch 55/450\n",
            "1583/1583 [==============================] - 2s 1ms/sample - loss: 2.0018 - sparse_categorical_accuracy: 0.5688\n",
            "Epoch 56/450\n",
            "1583/1583 [==============================] - 2s 1ms/sample - loss: 1.9857 - sparse_categorical_accuracy: 0.5696\n",
            "Epoch 57/450\n",
            "1583/1583 [==============================] - 2s 1ms/sample - loss: 1.9526 - sparse_categorical_accuracy: 0.5760\n",
            "Epoch 58/450\n",
            "1583/1583 [==============================] - 2s 1ms/sample - loss: 1.9355 - sparse_categorical_accuracy: 0.5794\n",
            "Epoch 59/450\n",
            "1583/1583 [==============================] - 2s 1ms/sample - loss: 1.9054 - sparse_categorical_accuracy: 0.5820\n",
            "Epoch 60/450\n",
            "1583/1583 [==============================] - 2s 1ms/sample - loss: 1.8799 - sparse_categorical_accuracy: 0.5870\n",
            "Epoch 61/450\n",
            "1583/1583 [==============================] - 2s 1ms/sample - loss: 1.8597 - sparse_categorical_accuracy: 0.5877\n",
            "Epoch 62/450\n",
            "1583/1583 [==============================] - 2s 1ms/sample - loss: 1.8419 - sparse_categorical_accuracy: 0.5950\n",
            "Epoch 63/450\n",
            "1583/1583 [==============================] - 2s 1ms/sample - loss: 1.8152 - sparse_categorical_accuracy: 0.5965\n",
            "Epoch 64/450\n",
            "1583/1583 [==============================] - 2s 1ms/sample - loss: 1.7933 - sparse_categorical_accuracy: 0.5991\n",
            "Epoch 65/450\n",
            "1583/1583 [==============================] - 2s 1ms/sample - loss: 1.7710 - sparse_categorical_accuracy: 0.6067\n",
            "Epoch 66/450\n",
            "1583/1583 [==============================] - 2s 1ms/sample - loss: 1.7499 - sparse_categorical_accuracy: 0.6082\n",
            "Epoch 67/450\n",
            "1583/1583 [==============================] - 2s 1ms/sample - loss: 1.7209 - sparse_categorical_accuracy: 0.6162\n",
            "Epoch 68/450\n",
            "1583/1583 [==============================] - 2s 1ms/sample - loss: 1.7070 - sparse_categorical_accuracy: 0.6160\n",
            "Epoch 69/450\n",
            "1583/1583 [==============================] - 2s 1ms/sample - loss: 1.6772 - sparse_categorical_accuracy: 0.6242\n",
            "Epoch 70/450\n",
            "1583/1583 [==============================] - 2s 1ms/sample - loss: 1.6541 - sparse_categorical_accuracy: 0.6279\n",
            "Epoch 71/450\n",
            "1583/1583 [==============================] - 2s 1ms/sample - loss: 1.6446 - sparse_categorical_accuracy: 0.6255\n",
            "Epoch 72/450\n",
            "1583/1583 [==============================] - 2s 1ms/sample - loss: 1.6233 - sparse_categorical_accuracy: 0.6313\n",
            "Epoch 73/450\n",
            "1583/1583 [==============================] - 2s 1ms/sample - loss: 1.5956 - sparse_categorical_accuracy: 0.6381\n",
            "Epoch 74/450\n",
            "1583/1583 [==============================] - 2s 1ms/sample - loss: 1.5810 - sparse_categorical_accuracy: 0.6409\n",
            "Epoch 75/450\n",
            "1583/1583 [==============================] - 2s 1ms/sample - loss: 1.5652 - sparse_categorical_accuracy: 0.6393\n",
            "Epoch 76/450\n",
            "1583/1583 [==============================] - 2s 1ms/sample - loss: 1.5417 - sparse_categorical_accuracy: 0.6437\n",
            "Epoch 77/450\n",
            "1583/1583 [==============================] - 2s 1ms/sample - loss: 1.5281 - sparse_categorical_accuracy: 0.6494\n",
            "Epoch 78/450\n",
            "1583/1583 [==============================] - 2s 1ms/sample - loss: 1.5046 - sparse_categorical_accuracy: 0.6549\n",
            "Epoch 79/450\n",
            "1583/1583 [==============================] - 2s 1ms/sample - loss: 1.4848 - sparse_categorical_accuracy: 0.6566\n",
            "Epoch 80/450\n",
            "1583/1583 [==============================] - 2s 1ms/sample - loss: 1.4730 - sparse_categorical_accuracy: 0.6582\n",
            "Epoch 81/450\n",
            "1583/1583 [==============================] - 2s 1ms/sample - loss: 1.4545 - sparse_categorical_accuracy: 0.6613\n",
            "Epoch 82/450\n",
            "1583/1583 [==============================] - 2s 1ms/sample - loss: 1.4386 - sparse_categorical_accuracy: 0.6642\n",
            "Epoch 83/450\n",
            "1583/1583 [==============================] - 2s 1ms/sample - loss: 1.4161 - sparse_categorical_accuracy: 0.6710\n",
            "Epoch 84/450\n",
            "1583/1583 [==============================] - 2s 1ms/sample - loss: 1.3943 - sparse_categorical_accuracy: 0.6763\n",
            "Epoch 85/450\n",
            "1583/1583 [==============================] - 2s 1ms/sample - loss: 1.3887 - sparse_categorical_accuracy: 0.6749\n",
            "Epoch 86/450\n",
            "1583/1583 [==============================] - 2s 1ms/sample - loss: 1.3533 - sparse_categorical_accuracy: 0.6816\n",
            "Epoch 87/450\n",
            "1583/1583 [==============================] - 2s 1ms/sample - loss: 1.3522 - sparse_categorical_accuracy: 0.6799\n",
            "Epoch 88/450\n",
            "1583/1583 [==============================] - 2s 1ms/sample - loss: 1.3422 - sparse_categorical_accuracy: 0.6855\n",
            "Epoch 89/450\n",
            "1583/1583 [==============================] - 2s 1ms/sample - loss: 1.3150 - sparse_categorical_accuracy: 0.6851\n",
            "Epoch 90/450\n",
            "1583/1583 [==============================] - 2s 1ms/sample - loss: 1.3043 - sparse_categorical_accuracy: 0.6910\n",
            "Epoch 91/450\n",
            "1583/1583 [==============================] - 2s 1ms/sample - loss: 1.2884 - sparse_categorical_accuracy: 0.6914\n",
            "Epoch 92/450\n",
            "1583/1583 [==============================] - 2s 1ms/sample - loss: 1.2721 - sparse_categorical_accuracy: 0.6991\n",
            "Epoch 93/450\n",
            "1583/1583 [==============================] - 2s 1ms/sample - loss: 1.2600 - sparse_categorical_accuracy: 0.6986\n",
            "Epoch 94/450\n",
            "1583/1583 [==============================] - 2s 1ms/sample - loss: 1.2489 - sparse_categorical_accuracy: 0.6981\n",
            "Epoch 95/450\n",
            "1583/1583 [==============================] - 2s 1ms/sample - loss: 1.2344 - sparse_categorical_accuracy: 0.7054\n",
            "Epoch 96/450\n",
            "1583/1583 [==============================] - 2s 1ms/sample - loss: 1.2180 - sparse_categorical_accuracy: 0.7067\n",
            "Epoch 97/450\n",
            "1583/1583 [==============================] - 2s 1ms/sample - loss: 1.2015 - sparse_categorical_accuracy: 0.7112\n",
            "Epoch 98/450\n",
            "1583/1583 [==============================] - 2s 1ms/sample - loss: 1.1936 - sparse_categorical_accuracy: 0.7110\n",
            "Epoch 99/450\n",
            "1583/1583 [==============================] - 2s 1ms/sample - loss: 1.1797 - sparse_categorical_accuracy: 0.7140\n",
            "Epoch 100/450\n",
            "1583/1583 [==============================] - 2s 1ms/sample - loss: 1.1609 - sparse_categorical_accuracy: 0.7162\n",
            "Epoch 101/450\n",
            "1583/1583 [==============================] - 2s 1ms/sample - loss: 1.1509 - sparse_categorical_accuracy: 0.7167\n",
            "Epoch 102/450\n",
            "1583/1583 [==============================] - 2s 1ms/sample - loss: 1.1381 - sparse_categorical_accuracy: 0.7192\n",
            "Epoch 103/450\n",
            "1583/1583 [==============================] - 2s 1ms/sample - loss: 1.1360 - sparse_categorical_accuracy: 0.7195\n",
            "Epoch 104/450\n",
            "1583/1583 [==============================] - 2s 1ms/sample - loss: 1.1170 - sparse_categorical_accuracy: 0.7244\n",
            "Epoch 105/450\n",
            "1583/1583 [==============================] - 2s 1ms/sample - loss: 1.0961 - sparse_categorical_accuracy: 0.7298\n",
            "Epoch 106/450\n",
            "1583/1583 [==============================] - 2s 1ms/sample - loss: 1.0887 - sparse_categorical_accuracy: 0.7311\n",
            "Epoch 107/450\n",
            "1583/1583 [==============================] - 2s 1ms/sample - loss: 1.0887 - sparse_categorical_accuracy: 0.7300\n",
            "Epoch 108/450\n",
            "1583/1583 [==============================] - 2s 1ms/sample - loss: 1.0640 - sparse_categorical_accuracy: 0.7348\n",
            "Epoch 109/450\n",
            "1583/1583 [==============================] - 2s 1ms/sample - loss: 1.0546 - sparse_categorical_accuracy: 0.7363\n",
            "Epoch 110/450\n",
            "1583/1583 [==============================] - 2s 1ms/sample - loss: 1.0391 - sparse_categorical_accuracy: 0.7392\n",
            "Epoch 111/450\n",
            "1583/1583 [==============================] - 2s 1ms/sample - loss: 1.0307 - sparse_categorical_accuracy: 0.7418\n",
            "Epoch 112/450\n",
            "1583/1583 [==============================] - 2s 1ms/sample - loss: 1.0273 - sparse_categorical_accuracy: 0.7394\n",
            "Epoch 113/450\n",
            "1583/1583 [==============================] - 2s 1ms/sample - loss: 1.0150 - sparse_categorical_accuracy: 0.7446\n",
            "Epoch 114/450\n",
            "1583/1583 [==============================] - 2s 1ms/sample - loss: 1.0065 - sparse_categorical_accuracy: 0.7457\n",
            "Epoch 115/450\n",
            "1583/1583 [==============================] - 2s 1ms/sample - loss: 0.9982 - sparse_categorical_accuracy: 0.7480\n",
            "Epoch 116/450\n",
            "1583/1583 [==============================] - 2s 1ms/sample - loss: 0.9842 - sparse_categorical_accuracy: 0.7523\n",
            "Epoch 117/450\n",
            "1583/1583 [==============================] - 2s 1ms/sample - loss: 0.9736 - sparse_categorical_accuracy: 0.7538\n",
            "Epoch 118/450\n",
            "1583/1583 [==============================] - 2s 1ms/sample - loss: 0.9752 - sparse_categorical_accuracy: 0.7526\n",
            "Epoch 119/450\n",
            "1583/1583 [==============================] - 2s 1ms/sample - loss: 0.9496 - sparse_categorical_accuracy: 0.7602\n",
            "Epoch 120/450\n",
            "1583/1583 [==============================] - 2s 1ms/sample - loss: 0.9429 - sparse_categorical_accuracy: 0.7589\n",
            "Epoch 121/450\n",
            "1583/1583 [==============================] - 2s 1ms/sample - loss: 0.9230 - sparse_categorical_accuracy: 0.7634\n",
            "Epoch 122/450\n",
            "1583/1583 [==============================] - 2s 1ms/sample - loss: 0.9292 - sparse_categorical_accuracy: 0.7639\n",
            "Epoch 123/450\n",
            "1583/1583 [==============================] - 2s 1ms/sample - loss: 0.9143 - sparse_categorical_accuracy: 0.7650\n",
            "Epoch 124/450\n",
            "1583/1583 [==============================] - 2s 1ms/sample - loss: 0.9010 - sparse_categorical_accuracy: 0.7652\n",
            "Epoch 125/450\n",
            "1583/1583 [==============================] - 2s 1ms/sample - loss: 0.9025 - sparse_categorical_accuracy: 0.7684\n",
            "Epoch 126/450\n",
            "1583/1583 [==============================] - 2s 1ms/sample - loss: 0.9033 - sparse_categorical_accuracy: 0.7694\n",
            "Epoch 127/450\n",
            "1583/1583 [==============================] - 2s 1ms/sample - loss: 0.8761 - sparse_categorical_accuracy: 0.7773\n",
            "Epoch 128/450\n",
            "1583/1583 [==============================] - 2s 1ms/sample - loss: 0.8813 - sparse_categorical_accuracy: 0.7686\n",
            "Epoch 129/450\n",
            "1583/1583 [==============================] - 2s 1ms/sample - loss: 0.8697 - sparse_categorical_accuracy: 0.7769\n",
            "Epoch 130/450\n",
            "1583/1583 [==============================] - 2s 1ms/sample - loss: 0.8575 - sparse_categorical_accuracy: 0.7788\n",
            "Epoch 131/450\n",
            "1583/1583 [==============================] - 2s 1ms/sample - loss: 0.8446 - sparse_categorical_accuracy: 0.7844\n",
            "Epoch 132/450\n",
            "1583/1583 [==============================] - 2s 1ms/sample - loss: 0.8367 - sparse_categorical_accuracy: 0.7827\n",
            "Epoch 133/450\n",
            "1583/1583 [==============================] - 2s 1ms/sample - loss: 0.8346 - sparse_categorical_accuracy: 0.7823\n",
            "Epoch 134/450\n",
            "1583/1583 [==============================] - 2s 1ms/sample - loss: 0.8438 - sparse_categorical_accuracy: 0.7797\n",
            "Epoch 135/450\n",
            "1583/1583 [==============================] - 2s 1ms/sample - loss: 0.8143 - sparse_categorical_accuracy: 0.7880\n",
            "Epoch 136/450\n",
            "1583/1583 [==============================] - 2s 1ms/sample - loss: 0.8096 - sparse_categorical_accuracy: 0.7867\n",
            "Epoch 137/450\n",
            "1583/1583 [==============================] - 2s 1ms/sample - loss: 0.8041 - sparse_categorical_accuracy: 0.7892\n",
            "Epoch 138/450\n",
            "1583/1583 [==============================] - 2s 1ms/sample - loss: 0.7971 - sparse_categorical_accuracy: 0.7922\n",
            "Epoch 139/450\n",
            "1583/1583 [==============================] - 2s 1ms/sample - loss: 0.7802 - sparse_categorical_accuracy: 0.7957\n",
            "Epoch 140/450\n",
            "1583/1583 [==============================] - 2s 1ms/sample - loss: 0.7812 - sparse_categorical_accuracy: 0.7960\n",
            "Epoch 141/450\n",
            "1583/1583 [==============================] - 2s 1ms/sample - loss: 0.7778 - sparse_categorical_accuracy: 0.7944\n",
            "Epoch 142/450\n",
            "1583/1583 [==============================] - 2s 1ms/sample - loss: 0.7657 - sparse_categorical_accuracy: 0.7997\n",
            "Epoch 143/450\n",
            "1583/1583 [==============================] - 2s 1ms/sample - loss: 0.7621 - sparse_categorical_accuracy: 0.7976\n",
            "Epoch 144/450\n",
            "1583/1583 [==============================] - 2s 1ms/sample - loss: 0.7586 - sparse_categorical_accuracy: 0.7993\n",
            "Epoch 145/450\n",
            "1583/1583 [==============================] - 2s 1ms/sample - loss: 0.7490 - sparse_categorical_accuracy: 0.8025\n",
            "Epoch 146/450\n",
            "1583/1583 [==============================] - 2s 1ms/sample - loss: 0.7517 - sparse_categorical_accuracy: 0.8016\n",
            "Epoch 147/450\n",
            "1583/1583 [==============================] - 2s 1ms/sample - loss: 0.7224 - sparse_categorical_accuracy: 0.8079\n",
            "Epoch 148/450\n",
            "1583/1583 [==============================] - 2s 1ms/sample - loss: 0.7295 - sparse_categorical_accuracy: 0.8059\n",
            "Epoch 149/450\n",
            "1583/1583 [==============================] - 2s 1ms/sample - loss: 0.7174 - sparse_categorical_accuracy: 0.8082\n",
            "Epoch 150/450\n",
            "1583/1583 [==============================] - 2s 1ms/sample - loss: 0.7169 - sparse_categorical_accuracy: 0.8063\n",
            "Epoch 151/450\n",
            "1583/1583 [==============================] - 2s 1ms/sample - loss: 0.7101 - sparse_categorical_accuracy: 0.8119\n",
            "Epoch 152/450\n",
            "1583/1583 [==============================] - 2s 1ms/sample - loss: 0.6981 - sparse_categorical_accuracy: 0.8135\n",
            "Epoch 153/450\n",
            "1583/1583 [==============================] - 2s 1ms/sample - loss: 0.7014 - sparse_categorical_accuracy: 0.8115\n",
            "Epoch 154/450\n",
            "1583/1583 [==============================] - 2s 1ms/sample - loss: 0.6903 - sparse_categorical_accuracy: 0.8153\n",
            "Epoch 155/450\n",
            "1583/1583 [==============================] - 2s 1ms/sample - loss: 0.6886 - sparse_categorical_accuracy: 0.8150\n",
            "Epoch 156/450\n",
            "1583/1583 [==============================] - 2s 1ms/sample - loss: 0.6792 - sparse_categorical_accuracy: 0.8175\n",
            "Epoch 157/450\n",
            "1583/1583 [==============================] - 2s 1ms/sample - loss: 0.6647 - sparse_categorical_accuracy: 0.8198\n",
            "Epoch 158/450\n",
            "1583/1583 [==============================] - 2s 1ms/sample - loss: 0.6839 - sparse_categorical_accuracy: 0.8159\n",
            "Epoch 159/450\n",
            "1583/1583 [==============================] - 2s 1ms/sample - loss: 0.6715 - sparse_categorical_accuracy: 0.8194\n",
            "Epoch 160/450\n",
            "1583/1583 [==============================] - 2s 1ms/sample - loss: 0.6510 - sparse_categorical_accuracy: 0.8232\n",
            "Epoch 161/450\n",
            "1583/1583 [==============================] - 2s 1ms/sample - loss: 0.6555 - sparse_categorical_accuracy: 0.8239\n",
            "Epoch 162/450\n",
            "1583/1583 [==============================] - 2s 1ms/sample - loss: 0.6513 - sparse_categorical_accuracy: 0.8219\n",
            "Epoch 163/450\n",
            "1583/1583 [==============================] - 2s 1ms/sample - loss: 0.6459 - sparse_categorical_accuracy: 0.8248\n",
            "Epoch 164/450\n",
            "1583/1583 [==============================] - 2s 1ms/sample - loss: 0.6399 - sparse_categorical_accuracy: 0.8243\n",
            "Epoch 165/450\n",
            "1583/1583 [==============================] - 2s 1ms/sample - loss: 0.6356 - sparse_categorical_accuracy: 0.8234\n",
            "Epoch 166/450\n",
            "1583/1583 [==============================] - 2s 1ms/sample - loss: 0.6212 - sparse_categorical_accuracy: 0.8314\n",
            "Epoch 167/450\n",
            "1583/1583 [==============================] - 2s 1ms/sample - loss: 0.6193 - sparse_categorical_accuracy: 0.8310\n",
            "Epoch 168/450\n",
            "1583/1583 [==============================] - 2s 1ms/sample - loss: 0.6084 - sparse_categorical_accuracy: 0.8330\n",
            "Epoch 169/450\n",
            "1583/1583 [==============================] - 2s 1ms/sample - loss: 0.6118 - sparse_categorical_accuracy: 0.8339\n",
            "Epoch 170/450\n",
            "1583/1583 [==============================] - 2s 1ms/sample - loss: 0.6130 - sparse_categorical_accuracy: 0.8307\n",
            "Epoch 171/450\n",
            "1583/1583 [==============================] - 2s 1ms/sample - loss: 0.6006 - sparse_categorical_accuracy: 0.8354\n",
            "Epoch 172/450\n",
            "1583/1583 [==============================] - 2s 1ms/sample - loss: 0.6025 - sparse_categorical_accuracy: 0.8334\n",
            "Epoch 173/450\n",
            "1583/1583 [==============================] - 2s 1ms/sample - loss: 0.5974 - sparse_categorical_accuracy: 0.8341\n",
            "Epoch 174/450\n",
            "1583/1583 [==============================] - 2s 1ms/sample - loss: 0.5779 - sparse_categorical_accuracy: 0.8416\n",
            "Epoch 175/450\n",
            "1583/1583 [==============================] - 2s 1ms/sample - loss: 0.5821 - sparse_categorical_accuracy: 0.8406\n",
            "Epoch 176/450\n",
            "1583/1583 [==============================] - 2s 1ms/sample - loss: 0.5727 - sparse_categorical_accuracy: 0.8417\n",
            "Epoch 177/450\n",
            "1583/1583 [==============================] - 2s 1ms/sample - loss: 0.5883 - sparse_categorical_accuracy: 0.8344\n",
            "Epoch 178/450\n",
            "1583/1583 [==============================] - 2s 1ms/sample - loss: 0.5683 - sparse_categorical_accuracy: 0.8430\n",
            "Epoch 179/450\n",
            "1583/1583 [==============================] - 2s 1ms/sample - loss: 0.5573 - sparse_categorical_accuracy: 0.8445\n",
            "Epoch 180/450\n",
            "1583/1583 [==============================] - 2s 1ms/sample - loss: 0.5555 - sparse_categorical_accuracy: 0.8475\n",
            "Epoch 181/450\n",
            "1583/1583 [==============================] - 2s 1ms/sample - loss: 0.5597 - sparse_categorical_accuracy: 0.8457\n",
            "Epoch 182/450\n",
            "1583/1583 [==============================] - 2s 1ms/sample - loss: 0.5501 - sparse_categorical_accuracy: 0.8471\n",
            "Epoch 183/450\n",
            "1583/1583 [==============================] - 2s 1ms/sample - loss: 0.5541 - sparse_categorical_accuracy: 0.8480\n",
            "Epoch 184/450\n",
            "1583/1583 [==============================] - 2s 1ms/sample - loss: 0.5427 - sparse_categorical_accuracy: 0.8511\n",
            "Epoch 185/450\n",
            "1583/1583 [==============================] - 2s 1ms/sample - loss: 0.5390 - sparse_categorical_accuracy: 0.8503\n",
            "Epoch 186/450\n",
            "1583/1583 [==============================] - 2s 1ms/sample - loss: 0.5283 - sparse_categorical_accuracy: 0.8518\n",
            "Epoch 187/450\n",
            "1583/1583 [==============================] - 2s 1ms/sample - loss: 0.5395 - sparse_categorical_accuracy: 0.8507\n",
            "Epoch 188/450\n",
            "1583/1583 [==============================] - 2s 1ms/sample - loss: 0.5181 - sparse_categorical_accuracy: 0.8549\n",
            "Epoch 189/450\n",
            "1583/1583 [==============================] - 2s 1ms/sample - loss: 0.5355 - sparse_categorical_accuracy: 0.8525\n",
            "Epoch 190/450\n",
            "1583/1583 [==============================] - 2s 1ms/sample - loss: 0.5230 - sparse_categorical_accuracy: 0.8551\n",
            "Epoch 191/450\n",
            "1583/1583 [==============================] - 2s 1ms/sample - loss: 0.5045 - sparse_categorical_accuracy: 0.8606\n",
            "Epoch 192/450\n",
            "1583/1583 [==============================] - 2s 1ms/sample - loss: 0.5237 - sparse_categorical_accuracy: 0.8533\n",
            "Epoch 193/450\n",
            "1583/1583 [==============================] - 2s 1ms/sample - loss: 0.5038 - sparse_categorical_accuracy: 0.8593\n",
            "Epoch 194/450\n",
            "1583/1583 [==============================] - 2s 1ms/sample - loss: 0.5003 - sparse_categorical_accuracy: 0.8579\n",
            "Epoch 195/450\n",
            "1583/1583 [==============================] - 2s 1ms/sample - loss: 0.4920 - sparse_categorical_accuracy: 0.8616\n",
            "Epoch 196/450\n",
            "1583/1583 [==============================] - 2s 1ms/sample - loss: 0.5067 - sparse_categorical_accuracy: 0.8579\n",
            "Epoch 197/450\n",
            "1583/1583 [==============================] - 2s 1ms/sample - loss: 0.4850 - sparse_categorical_accuracy: 0.8659\n",
            "Epoch 198/450\n",
            "1583/1583 [==============================] - 2s 1ms/sample - loss: 0.4826 - sparse_categorical_accuracy: 0.8655\n",
            "Epoch 199/450\n",
            "1583/1583 [==============================] - 2s 1ms/sample - loss: 0.4798 - sparse_categorical_accuracy: 0.8654\n",
            "Epoch 200/450\n",
            "1583/1583 [==============================] - 2s 1ms/sample - loss: 0.4844 - sparse_categorical_accuracy: 0.8654\n",
            "Epoch 201/450\n",
            "1583/1583 [==============================] - 2s 1ms/sample - loss: 0.4798 - sparse_categorical_accuracy: 0.8662\n",
            "Epoch 202/450\n",
            "1583/1583 [==============================] - 2s 1ms/sample - loss: 0.4748 - sparse_categorical_accuracy: 0.8664\n",
            "Epoch 203/450\n",
            "1583/1583 [==============================] - 2s 1ms/sample - loss: 0.4687 - sparse_categorical_accuracy: 0.8657\n",
            "Epoch 204/450\n",
            "1583/1583 [==============================] - 2s 1ms/sample - loss: 0.4751 - sparse_categorical_accuracy: 0.8691\n",
            "Epoch 205/450\n",
            "1583/1583 [==============================] - 2s 1ms/sample - loss: 0.4658 - sparse_categorical_accuracy: 0.8694\n",
            "Epoch 206/450\n",
            "1583/1583 [==============================] - 2s 1ms/sample - loss: 0.4598 - sparse_categorical_accuracy: 0.8695\n",
            "Epoch 207/450\n",
            "1583/1583 [==============================] - 2s 1ms/sample - loss: 0.4530 - sparse_categorical_accuracy: 0.8720\n",
            "Epoch 208/450\n",
            "1583/1583 [==============================] - 2s 1ms/sample - loss: 0.4663 - sparse_categorical_accuracy: 0.8689\n",
            "Epoch 209/450\n",
            "1583/1583 [==============================] - 2s 1ms/sample - loss: 0.4536 - sparse_categorical_accuracy: 0.8730\n",
            "Epoch 210/450\n",
            "1583/1583 [==============================] - 2s 1ms/sample - loss: 0.4485 - sparse_categorical_accuracy: 0.8735\n",
            "Epoch 211/450\n",
            "1583/1583 [==============================] - 2s 1ms/sample - loss: 0.4454 - sparse_categorical_accuracy: 0.8727\n",
            "Epoch 212/450\n",
            "1583/1583 [==============================] - 2s 1ms/sample - loss: 0.4403 - sparse_categorical_accuracy: 0.8759\n",
            "Epoch 213/450\n",
            "1583/1583 [==============================] - 2s 1ms/sample - loss: 0.4430 - sparse_categorical_accuracy: 0.8727\n",
            "Epoch 214/450\n",
            "1583/1583 [==============================] - 2s 1ms/sample - loss: 0.4320 - sparse_categorical_accuracy: 0.8786\n",
            "Epoch 215/450\n",
            "1583/1583 [==============================] - 2s 1ms/sample - loss: 0.4370 - sparse_categorical_accuracy: 0.8763\n",
            "Epoch 216/450\n",
            "1583/1583 [==============================] - 2s 1ms/sample - loss: 0.4379 - sparse_categorical_accuracy: 0.8772\n",
            "Epoch 217/450\n",
            "1583/1583 [==============================] - 2s 1ms/sample - loss: 0.4256 - sparse_categorical_accuracy: 0.8812\n",
            "Epoch 218/450\n",
            "1583/1583 [==============================] - 2s 1ms/sample - loss: 0.4224 - sparse_categorical_accuracy: 0.8819\n",
            "Epoch 219/450\n",
            "1583/1583 [==============================] - 2s 1ms/sample - loss: 0.4356 - sparse_categorical_accuracy: 0.8782\n",
            "Epoch 220/450\n",
            "1583/1583 [==============================] - 2s 1ms/sample - loss: 0.4041 - sparse_categorical_accuracy: 0.8826\n",
            "Epoch 221/450\n",
            "1583/1583 [==============================] - 2s 1ms/sample - loss: 0.4157 - sparse_categorical_accuracy: 0.8830\n",
            "Epoch 222/450\n",
            "1583/1583 [==============================] - 2s 1ms/sample - loss: 0.4050 - sparse_categorical_accuracy: 0.8850\n",
            "Epoch 223/450\n",
            "1583/1583 [==============================] - 2s 1ms/sample - loss: 0.3966 - sparse_categorical_accuracy: 0.8862\n",
            "Epoch 224/450\n",
            "1583/1583 [==============================] - 2s 1ms/sample - loss: 0.4142 - sparse_categorical_accuracy: 0.8833\n",
            "Epoch 225/450\n",
            "1583/1583 [==============================] - 2s 1ms/sample - loss: 0.4141 - sparse_categorical_accuracy: 0.8818\n",
            "Epoch 226/450\n",
            "1583/1583 [==============================] - 2s 1ms/sample - loss: 0.4086 - sparse_categorical_accuracy: 0.8841\n",
            "Epoch 227/450\n",
            "1583/1583 [==============================] - 2s 1ms/sample - loss: 0.4084 - sparse_categorical_accuracy: 0.8833\n",
            "Epoch 228/450\n",
            "1583/1583 [==============================] - 2s 1ms/sample - loss: 0.3972 - sparse_categorical_accuracy: 0.8882\n",
            "Epoch 229/450\n",
            "1583/1583 [==============================] - 2s 1ms/sample - loss: 0.4010 - sparse_categorical_accuracy: 0.8850\n",
            "Epoch 230/450\n",
            "1583/1583 [==============================] - 2s 1ms/sample - loss: 0.3985 - sparse_categorical_accuracy: 0.8857\n",
            "Epoch 231/450\n",
            "1583/1583 [==============================] - 2s 1ms/sample - loss: 0.4036 - sparse_categorical_accuracy: 0.8836\n",
            "Epoch 232/450\n",
            "1583/1583 [==============================] - 2s 1ms/sample - loss: 0.3917 - sparse_categorical_accuracy: 0.8875\n",
            "Epoch 233/450\n",
            "1583/1583 [==============================] - 2s 1ms/sample - loss: 0.3941 - sparse_categorical_accuracy: 0.8877\n",
            "Epoch 234/450\n",
            "1583/1583 [==============================] - 2s 1ms/sample - loss: 0.3890 - sparse_categorical_accuracy: 0.8886\n",
            "Epoch 235/450\n",
            "1583/1583 [==============================] - 2s 1ms/sample - loss: 0.3880 - sparse_categorical_accuracy: 0.8893\n",
            "Epoch 236/450\n",
            "1583/1583 [==============================] - 2s 1ms/sample - loss: 0.3898 - sparse_categorical_accuracy: 0.8893\n",
            "Epoch 237/450\n",
            "1583/1583 [==============================] - 2s 1ms/sample - loss: 0.3677 - sparse_categorical_accuracy: 0.8938\n",
            "Epoch 238/450\n",
            "1583/1583 [==============================] - 2s 1ms/sample - loss: 0.3757 - sparse_categorical_accuracy: 0.8933\n",
            "Epoch 239/450\n",
            "1583/1583 [==============================] - 2s 1ms/sample - loss: 0.3850 - sparse_categorical_accuracy: 0.8907\n",
            "Epoch 240/450\n",
            "1583/1583 [==============================] - 2s 1ms/sample - loss: 0.3678 - sparse_categorical_accuracy: 0.8947\n",
            "Epoch 241/450\n",
            "1583/1583 [==============================] - 2s 1ms/sample - loss: 0.3631 - sparse_categorical_accuracy: 0.8952\n",
            "Epoch 242/450\n",
            "1583/1583 [==============================] - 2s 1ms/sample - loss: 0.3692 - sparse_categorical_accuracy: 0.8972\n",
            "Epoch 243/450\n",
            "1583/1583 [==============================] - 2s 1ms/sample - loss: 0.3596 - sparse_categorical_accuracy: 0.8973\n",
            "Epoch 244/450\n",
            "1583/1583 [==============================] - 2s 1ms/sample - loss: 0.3484 - sparse_categorical_accuracy: 0.9000\n",
            "Epoch 245/450\n",
            "1583/1583 [==============================] - 2s 1ms/sample - loss: 0.3597 - sparse_categorical_accuracy: 0.8963\n",
            "Epoch 246/450\n",
            "1583/1583 [==============================] - 2s 1ms/sample - loss: 0.3526 - sparse_categorical_accuracy: 0.9000\n",
            "Epoch 247/450\n",
            "1583/1583 [==============================] - 2s 1ms/sample - loss: 0.3552 - sparse_categorical_accuracy: 0.8957\n",
            "Epoch 248/450\n",
            "1583/1583 [==============================] - 2s 1ms/sample - loss: 0.3492 - sparse_categorical_accuracy: 0.9008\n",
            "Epoch 249/450\n",
            "1583/1583 [==============================] - 2s 1ms/sample - loss: 0.3565 - sparse_categorical_accuracy: 0.9002\n",
            "Epoch 250/450\n",
            "1583/1583 [==============================] - 2s 1ms/sample - loss: 0.3567 - sparse_categorical_accuracy: 0.8995\n",
            "Epoch 251/450\n",
            "1583/1583 [==============================] - 2s 1ms/sample - loss: 0.3548 - sparse_categorical_accuracy: 0.8991\n",
            "Epoch 252/450\n",
            "1583/1583 [==============================] - 2s 1ms/sample - loss: 0.3500 - sparse_categorical_accuracy: 0.8990\n",
            "Epoch 253/450\n",
            "1583/1583 [==============================] - 2s 1ms/sample - loss: 0.3360 - sparse_categorical_accuracy: 0.9053\n",
            "Epoch 254/450\n",
            "1583/1583 [==============================] - 2s 1ms/sample - loss: 0.3447 - sparse_categorical_accuracy: 0.9006\n",
            "Epoch 255/450\n",
            "1583/1583 [==============================] - 2s 1ms/sample - loss: 0.3299 - sparse_categorical_accuracy: 0.9046\n",
            "Epoch 256/450\n",
            "1583/1583 [==============================] - 2s 1ms/sample - loss: 0.3310 - sparse_categorical_accuracy: 0.9050\n",
            "Epoch 257/450\n",
            "1583/1583 [==============================] - 2s 1ms/sample - loss: 0.3428 - sparse_categorical_accuracy: 0.9019\n",
            "Epoch 258/450\n",
            "1583/1583 [==============================] - 2s 1ms/sample - loss: 0.3389 - sparse_categorical_accuracy: 0.9047\n",
            "Epoch 259/450\n",
            "1583/1583 [==============================] - 2s 1ms/sample - loss: 0.3288 - sparse_categorical_accuracy: 0.9054\n",
            "Epoch 260/450\n",
            "1583/1583 [==============================] - 2s 1ms/sample - loss: 0.3248 - sparse_categorical_accuracy: 0.9057\n",
            "Epoch 261/450\n",
            "1583/1583 [==============================] - 2s 1ms/sample - loss: 0.3327 - sparse_categorical_accuracy: 0.9056\n",
            "Epoch 262/450\n",
            "1583/1583 [==============================] - 2s 1ms/sample - loss: 0.3198 - sparse_categorical_accuracy: 0.9069\n",
            "Epoch 263/450\n",
            "1583/1583 [==============================] - 2s 1ms/sample - loss: 0.3304 - sparse_categorical_accuracy: 0.9045\n",
            "Epoch 264/450\n",
            "1583/1583 [==============================] - 2s 1ms/sample - loss: 0.3347 - sparse_categorical_accuracy: 0.9041\n",
            "Epoch 265/450\n",
            "1583/1583 [==============================] - 2s 1ms/sample - loss: 0.3091 - sparse_categorical_accuracy: 0.9118\n",
            "Epoch 266/450\n",
            "1583/1583 [==============================] - 2s 1ms/sample - loss: 0.3245 - sparse_categorical_accuracy: 0.9072\n",
            "Epoch 267/450\n",
            "1583/1583 [==============================] - 2s 1ms/sample - loss: 0.3200 - sparse_categorical_accuracy: 0.9080\n",
            "Epoch 268/450\n",
            "1583/1583 [==============================] - 2s 1ms/sample - loss: 0.3196 - sparse_categorical_accuracy: 0.9069\n",
            "Epoch 269/450\n",
            "1583/1583 [==============================] - 2s 1ms/sample - loss: 0.3130 - sparse_categorical_accuracy: 0.9109\n",
            "Epoch 270/450\n",
            "1583/1583 [==============================] - 2s 1ms/sample - loss: 0.3061 - sparse_categorical_accuracy: 0.9121\n",
            "Epoch 271/450\n",
            "1583/1583 [==============================] - 2s 1ms/sample - loss: 0.3258 - sparse_categorical_accuracy: 0.9070\n",
            "Epoch 272/450\n",
            "1583/1583 [==============================] - 2s 1ms/sample - loss: 0.3264 - sparse_categorical_accuracy: 0.9081\n",
            "Epoch 273/450\n",
            "1583/1583 [==============================] - 2s 1ms/sample - loss: 0.3066 - sparse_categorical_accuracy: 0.9121\n",
            "Epoch 274/450\n",
            "1583/1583 [==============================] - 2s 1ms/sample - loss: 0.3112 - sparse_categorical_accuracy: 0.9097\n",
            "Epoch 275/450\n",
            "1583/1583 [==============================] - 2s 1ms/sample - loss: 0.3084 - sparse_categorical_accuracy: 0.9117\n",
            "Epoch 276/450\n",
            "1583/1583 [==============================] - 2s 1ms/sample - loss: 0.2912 - sparse_categorical_accuracy: 0.9146\n",
            "Epoch 277/450\n",
            "1583/1583 [==============================] - 2s 1ms/sample - loss: 0.3023 - sparse_categorical_accuracy: 0.9125\n",
            "Epoch 278/450\n",
            "1583/1583 [==============================] - 2s 1ms/sample - loss: 0.3029 - sparse_categorical_accuracy: 0.9142\n",
            "Epoch 279/450\n",
            "1583/1583 [==============================] - 2s 1ms/sample - loss: 0.3067 - sparse_categorical_accuracy: 0.9114\n",
            "Epoch 280/450\n",
            "1583/1583 [==============================] - 2s 1ms/sample - loss: 0.2987 - sparse_categorical_accuracy: 0.9154\n",
            "Epoch 281/450\n",
            "1583/1583 [==============================] - 2s 1ms/sample - loss: 0.3058 - sparse_categorical_accuracy: 0.9122\n",
            "Epoch 282/450\n",
            "1583/1583 [==============================] - 2s 1ms/sample - loss: 0.3049 - sparse_categorical_accuracy: 0.9145\n",
            "Epoch 283/450\n",
            "1583/1583 [==============================] - 2s 1ms/sample - loss: 0.2981 - sparse_categorical_accuracy: 0.9131\n",
            "Epoch 284/450\n",
            "1583/1583 [==============================] - 2s 1ms/sample - loss: 0.2963 - sparse_categorical_accuracy: 0.9154\n",
            "Epoch 285/450\n",
            "1583/1583 [==============================] - 2s 1ms/sample - loss: 0.2827 - sparse_categorical_accuracy: 0.9174\n",
            "Epoch 286/450\n",
            "1583/1583 [==============================] - 2s 1ms/sample - loss: 0.2908 - sparse_categorical_accuracy: 0.9179\n",
            "Epoch 287/450\n",
            "1583/1583 [==============================] - 2s 1ms/sample - loss: 0.2975 - sparse_categorical_accuracy: 0.9157\n",
            "Epoch 288/450\n",
            "1583/1583 [==============================] - 2s 1ms/sample - loss: 0.2827 - sparse_categorical_accuracy: 0.9187\n",
            "Epoch 289/450\n",
            "1583/1583 [==============================] - 2s 1ms/sample - loss: 0.2778 - sparse_categorical_accuracy: 0.9200\n",
            "Epoch 290/450\n",
            "1583/1583 [==============================] - 2s 1ms/sample - loss: 0.2810 - sparse_categorical_accuracy: 0.9190\n",
            "Epoch 291/450\n",
            "1583/1583 [==============================] - 2s 1ms/sample - loss: 0.2837 - sparse_categorical_accuracy: 0.9194\n",
            "Epoch 292/450\n",
            "1583/1583 [==============================] - 2s 1ms/sample - loss: 0.2859 - sparse_categorical_accuracy: 0.9169\n",
            "Epoch 293/450\n",
            "1583/1583 [==============================] - 2s 1ms/sample - loss: 0.2818 - sparse_categorical_accuracy: 0.9200\n",
            "Epoch 294/450\n",
            "1583/1583 [==============================] - 2s 1ms/sample - loss: 0.2821 - sparse_categorical_accuracy: 0.9198\n",
            "Epoch 295/450\n",
            "1583/1583 [==============================] - 2s 1ms/sample - loss: 0.2753 - sparse_categorical_accuracy: 0.9197\n",
            "Epoch 296/450\n",
            "1583/1583 [==============================] - 2s 1ms/sample - loss: 0.2795 - sparse_categorical_accuracy: 0.9203\n",
            "Epoch 297/450\n",
            "1583/1583 [==============================] - 2s 1ms/sample - loss: 0.2728 - sparse_categorical_accuracy: 0.9220\n",
            "Epoch 298/450\n",
            "1583/1583 [==============================] - 2s 1ms/sample - loss: 0.2692 - sparse_categorical_accuracy: 0.9232\n",
            "Epoch 299/450\n",
            "1583/1583 [==============================] - 2s 1ms/sample - loss: 0.2772 - sparse_categorical_accuracy: 0.9219\n",
            "Epoch 300/450\n",
            "1583/1583 [==============================] - 2s 1ms/sample - loss: 0.2908 - sparse_categorical_accuracy: 0.9172\n",
            "Epoch 301/450\n",
            "1583/1583 [==============================] - 2s 1ms/sample - loss: 0.2692 - sparse_categorical_accuracy: 0.9220\n",
            "Epoch 302/450\n",
            "1583/1583 [==============================] - 2s 1ms/sample - loss: 0.2731 - sparse_categorical_accuracy: 0.9195\n",
            "Epoch 303/450\n",
            "1583/1583 [==============================] - 2s 1ms/sample - loss: 0.2654 - sparse_categorical_accuracy: 0.9239\n",
            "Epoch 304/450\n",
            "1583/1583 [==============================] - 2s 1ms/sample - loss: 0.2580 - sparse_categorical_accuracy: 0.9241\n",
            "Epoch 305/450\n",
            "1583/1583 [==============================] - 2s 1ms/sample - loss: 0.2611 - sparse_categorical_accuracy: 0.9251\n",
            "Epoch 306/450\n",
            "1583/1583 [==============================] - 2s 1ms/sample - loss: 0.2715 - sparse_categorical_accuracy: 0.9244\n",
            "Epoch 307/450\n",
            "1583/1583 [==============================] - 2s 1ms/sample - loss: 0.2521 - sparse_categorical_accuracy: 0.9293\n",
            "Epoch 308/450\n",
            "1583/1583 [==============================] - 2s 1ms/sample - loss: 0.2684 - sparse_categorical_accuracy: 0.9241\n",
            "Epoch 309/450\n",
            "1583/1583 [==============================] - 2s 1ms/sample - loss: 0.2683 - sparse_categorical_accuracy: 0.9231\n",
            "Epoch 310/450\n",
            "1583/1583 [==============================] - 2s 1ms/sample - loss: 0.2646 - sparse_categorical_accuracy: 0.9240\n",
            "Epoch 311/450\n",
            "1583/1583 [==============================] - 2s 1ms/sample - loss: 0.2499 - sparse_categorical_accuracy: 0.9268\n",
            "Epoch 312/450\n",
            "1583/1583 [==============================] - 2s 1ms/sample - loss: 0.2516 - sparse_categorical_accuracy: 0.9270\n",
            "Epoch 313/450\n",
            "1583/1583 [==============================] - 2s 1ms/sample - loss: 0.2570 - sparse_categorical_accuracy: 0.9275\n",
            "Epoch 314/450\n",
            "1583/1583 [==============================] - 2s 1ms/sample - loss: 0.2439 - sparse_categorical_accuracy: 0.9295\n",
            "Epoch 315/450\n",
            "1583/1583 [==============================] - 2s 1ms/sample - loss: 0.2533 - sparse_categorical_accuracy: 0.9293\n",
            "Epoch 316/450\n",
            "1583/1583 [==============================] - 2s 1ms/sample - loss: 0.2583 - sparse_categorical_accuracy: 0.9245\n",
            "Epoch 317/450\n",
            "1583/1583 [==============================] - 2s 1ms/sample - loss: 0.2580 - sparse_categorical_accuracy: 0.9277\n",
            "Epoch 318/450\n",
            "1583/1583 [==============================] - 2s 1ms/sample - loss: 0.2386 - sparse_categorical_accuracy: 0.9311\n",
            "Epoch 319/450\n",
            "1583/1583 [==============================] - 2s 1ms/sample - loss: 0.2498 - sparse_categorical_accuracy: 0.9295\n",
            "Epoch 320/450\n",
            "1583/1583 [==============================] - 2s 1ms/sample - loss: 0.2398 - sparse_categorical_accuracy: 0.9309\n",
            "Epoch 321/450\n",
            "1583/1583 [==============================] - 2s 1ms/sample - loss: 0.2411 - sparse_categorical_accuracy: 0.9314\n",
            "Epoch 322/450\n",
            "1583/1583 [==============================] - 2s 1ms/sample - loss: 0.2469 - sparse_categorical_accuracy: 0.9292\n",
            "Epoch 323/450\n",
            "1583/1583 [==============================] - 2s 1ms/sample - loss: 0.2461 - sparse_categorical_accuracy: 0.9302\n",
            "Epoch 324/450\n",
            "1583/1583 [==============================] - 2s 1ms/sample - loss: 0.2386 - sparse_categorical_accuracy: 0.9330\n",
            "Epoch 325/450\n",
            "1583/1583 [==============================] - 2s 1ms/sample - loss: 0.2412 - sparse_categorical_accuracy: 0.9305\n",
            "Epoch 326/450\n",
            "1583/1583 [==============================] - 2s 1ms/sample - loss: 0.2343 - sparse_categorical_accuracy: 0.9315\n",
            "Epoch 327/450\n",
            "1583/1583 [==============================] - 2s 1ms/sample - loss: 0.2410 - sparse_categorical_accuracy: 0.9282\n",
            "Epoch 328/450\n",
            "1583/1583 [==============================] - 2s 1ms/sample - loss: 0.2371 - sparse_categorical_accuracy: 0.9306\n",
            "Epoch 329/450\n",
            "1583/1583 [==============================] - 2s 1ms/sample - loss: 0.2278 - sparse_categorical_accuracy: 0.9339\n",
            "Epoch 330/450\n",
            "1583/1583 [==============================] - 2s 1ms/sample - loss: 0.2306 - sparse_categorical_accuracy: 0.9325\n",
            "Epoch 331/450\n",
            "1583/1583 [==============================] - 2s 1ms/sample - loss: 0.2406 - sparse_categorical_accuracy: 0.9290\n",
            "Epoch 332/450\n",
            "1583/1583 [==============================] - 2s 1ms/sample - loss: 0.2390 - sparse_categorical_accuracy: 0.9321\n",
            "Epoch 333/450\n",
            "1583/1583 [==============================] - 2s 1ms/sample - loss: 0.2394 - sparse_categorical_accuracy: 0.9330\n",
            "Epoch 334/450\n",
            "1583/1583 [==============================] - 2s 1ms/sample - loss: 0.2278 - sparse_categorical_accuracy: 0.9344\n",
            "Epoch 335/450\n",
            "1583/1583 [==============================] - 2s 1ms/sample - loss: 0.2230 - sparse_categorical_accuracy: 0.9358\n",
            "Epoch 336/450\n",
            "1583/1583 [==============================] - 2s 1ms/sample - loss: 0.2326 - sparse_categorical_accuracy: 0.9337\n",
            "Epoch 337/450\n",
            "1583/1583 [==============================] - 2s 1ms/sample - loss: 0.2379 - sparse_categorical_accuracy: 0.9325\n",
            "Epoch 338/450\n",
            "1583/1583 [==============================] - 2s 1ms/sample - loss: 0.2282 - sparse_categorical_accuracy: 0.9341\n",
            "Epoch 339/450\n",
            "1583/1583 [==============================] - 2s 1ms/sample - loss: 0.2206 - sparse_categorical_accuracy: 0.9380\n",
            "Epoch 340/450\n",
            "1583/1583 [==============================] - 2s 1ms/sample - loss: 0.2371 - sparse_categorical_accuracy: 0.9311\n",
            "Epoch 341/450\n",
            "1583/1583 [==============================] - 2s 1ms/sample - loss: 0.2142 - sparse_categorical_accuracy: 0.9371\n",
            "Epoch 342/450\n",
            "1583/1583 [==============================] - 2s 1ms/sample - loss: 0.2210 - sparse_categorical_accuracy: 0.9360\n",
            "Epoch 343/450\n",
            "1583/1583 [==============================] - 2s 1ms/sample - loss: 0.2279 - sparse_categorical_accuracy: 0.9320\n",
            "Epoch 344/450\n",
            "1583/1583 [==============================] - 2s 1ms/sample - loss: 0.2195 - sparse_categorical_accuracy: 0.9380\n",
            "Epoch 345/450\n",
            "1583/1583 [==============================] - 2s 1ms/sample - loss: 0.2292 - sparse_categorical_accuracy: 0.9337\n",
            "Epoch 346/450\n",
            "1583/1583 [==============================] - 2s 1ms/sample - loss: 0.2280 - sparse_categorical_accuracy: 0.9357\n",
            "Epoch 347/450\n",
            "1583/1583 [==============================] - 2s 1ms/sample - loss: 0.2147 - sparse_categorical_accuracy: 0.9375\n",
            "Epoch 348/450\n",
            "1583/1583 [==============================] - 2s 1ms/sample - loss: 0.2224 - sparse_categorical_accuracy: 0.9371\n",
            "Epoch 349/450\n",
            "1583/1583 [==============================] - 2s 1ms/sample - loss: 0.2199 - sparse_categorical_accuracy: 0.9361\n",
            "Epoch 350/450\n",
            "1583/1583 [==============================] - 2s 1ms/sample - loss: 0.2109 - sparse_categorical_accuracy: 0.9388\n",
            "Epoch 351/450\n",
            "1583/1583 [==============================] - 2s 1ms/sample - loss: 0.2176 - sparse_categorical_accuracy: 0.9376\n",
            "Epoch 352/450\n",
            "1583/1583 [==============================] - 2s 1ms/sample - loss: 0.2198 - sparse_categorical_accuracy: 0.9352\n",
            "Epoch 353/450\n",
            "1583/1583 [==============================] - 2s 1ms/sample - loss: 0.2154 - sparse_categorical_accuracy: 0.9380\n",
            "Epoch 354/450\n",
            "1583/1583 [==============================] - 2s 1ms/sample - loss: 0.2046 - sparse_categorical_accuracy: 0.9404\n",
            "Epoch 355/450\n",
            "1583/1583 [==============================] - 2s 1ms/sample - loss: 0.2101 - sparse_categorical_accuracy: 0.9404\n",
            "Epoch 356/450\n",
            "1583/1583 [==============================] - 2s 1ms/sample - loss: 0.2203 - sparse_categorical_accuracy: 0.9379\n",
            "Epoch 357/450\n",
            "1583/1583 [==============================] - 2s 1ms/sample - loss: 0.2151 - sparse_categorical_accuracy: 0.9377\n",
            "Epoch 358/450\n",
            "1583/1583 [==============================] - 2s 1ms/sample - loss: 0.2088 - sparse_categorical_accuracy: 0.9410\n",
            "Epoch 359/450\n",
            "1583/1583 [==============================] - 2s 1ms/sample - loss: 0.2151 - sparse_categorical_accuracy: 0.9383\n",
            "Epoch 360/450\n",
            "1583/1583 [==============================] - 2s 1ms/sample - loss: 0.2121 - sparse_categorical_accuracy: 0.9379\n",
            "Epoch 361/450\n",
            "1583/1583 [==============================] - 2s 1ms/sample - loss: 0.2132 - sparse_categorical_accuracy: 0.9371\n",
            "Epoch 362/450\n",
            "1583/1583 [==============================] - 2s 1ms/sample - loss: 0.2089 - sparse_categorical_accuracy: 0.9405\n",
            "Epoch 363/450\n",
            "1583/1583 [==============================] - 2s 1ms/sample - loss: 0.2135 - sparse_categorical_accuracy: 0.9385\n",
            "Epoch 364/450\n",
            "1583/1583 [==============================] - 2s 1ms/sample - loss: 0.2024 - sparse_categorical_accuracy: 0.9422\n",
            "Epoch 365/450\n",
            "1583/1583 [==============================] - 2s 1ms/sample - loss: 0.2009 - sparse_categorical_accuracy: 0.9415\n",
            "Epoch 366/450\n",
            "1583/1583 [==============================] - 2s 1ms/sample - loss: 0.2023 - sparse_categorical_accuracy: 0.9428\n",
            "Epoch 367/450\n",
            "1583/1583 [==============================] - 2s 1ms/sample - loss: 0.2070 - sparse_categorical_accuracy: 0.9400\n",
            "Epoch 368/450\n",
            "1583/1583 [==============================] - 2s 1ms/sample - loss: 0.2009 - sparse_categorical_accuracy: 0.9421\n",
            "Epoch 369/450\n",
            "1583/1583 [==============================] - 2s 1ms/sample - loss: 0.2019 - sparse_categorical_accuracy: 0.9415\n",
            "Epoch 370/450\n",
            "1583/1583 [==============================] - 2s 1ms/sample - loss: 0.2018 - sparse_categorical_accuracy: 0.9412\n",
            "Epoch 371/450\n",
            "1583/1583 [==============================] - 2s 1ms/sample - loss: 0.2031 - sparse_categorical_accuracy: 0.9423\n",
            "Epoch 372/450\n",
            "1583/1583 [==============================] - 2s 1ms/sample - loss: 0.2070 - sparse_categorical_accuracy: 0.9422\n",
            "Epoch 373/450\n",
            "1583/1583 [==============================] - 2s 1ms/sample - loss: 0.1938 - sparse_categorical_accuracy: 0.9446\n",
            "Epoch 374/450\n",
            "1583/1583 [==============================] - 2s 1ms/sample - loss: 0.1893 - sparse_categorical_accuracy: 0.9466\n",
            "Epoch 375/450\n",
            "1583/1583 [==============================] - 2s 1ms/sample - loss: 0.1998 - sparse_categorical_accuracy: 0.9400\n",
            "Epoch 376/450\n",
            "1583/1583 [==============================] - 2s 1ms/sample - loss: 0.2059 - sparse_categorical_accuracy: 0.9411\n",
            "Epoch 377/450\n",
            "1583/1583 [==============================] - 2s 1ms/sample - loss: 0.1954 - sparse_categorical_accuracy: 0.9439\n",
            "Epoch 378/450\n",
            "1583/1583 [==============================] - 2s 1ms/sample - loss: 0.1960 - sparse_categorical_accuracy: 0.9443\n",
            "Epoch 379/450\n",
            "1583/1583 [==============================] - 2s 1ms/sample - loss: 0.1951 - sparse_categorical_accuracy: 0.9439\n",
            "Epoch 380/450\n",
            "1583/1583 [==============================] - 2s 1ms/sample - loss: 0.1964 - sparse_categorical_accuracy: 0.9442\n",
            "Epoch 381/450\n",
            "1583/1583 [==============================] - 2s 1ms/sample - loss: 0.1918 - sparse_categorical_accuracy: 0.9453\n",
            "Epoch 382/450\n",
            "1583/1583 [==============================] - 2s 1ms/sample - loss: 0.2020 - sparse_categorical_accuracy: 0.9419\n",
            "Epoch 383/450\n",
            "1583/1583 [==============================] - 2s 1ms/sample - loss: 0.1869 - sparse_categorical_accuracy: 0.9460\n",
            "Epoch 384/450\n",
            "1583/1583 [==============================] - 2s 1ms/sample - loss: 0.1922 - sparse_categorical_accuracy: 0.9440\n",
            "Epoch 385/450\n",
            "1583/1583 [==============================] - 2s 1ms/sample - loss: 0.1915 - sparse_categorical_accuracy: 0.9447\n",
            "Epoch 386/450\n",
            "1583/1583 [==============================] - 2s 1ms/sample - loss: 0.1879 - sparse_categorical_accuracy: 0.9474\n",
            "Epoch 387/450\n",
            "1583/1583 [==============================] - 2s 1ms/sample - loss: 0.1897 - sparse_categorical_accuracy: 0.9451\n",
            "Epoch 388/450\n",
            "1583/1583 [==============================] - 2s 1ms/sample - loss: 0.1902 - sparse_categorical_accuracy: 0.9451\n",
            "Epoch 389/450\n",
            "1583/1583 [==============================] - 2s 1ms/sample - loss: 0.1986 - sparse_categorical_accuracy: 0.9438\n",
            "Epoch 390/450\n",
            "1583/1583 [==============================] - 2s 1ms/sample - loss: 0.1937 - sparse_categorical_accuracy: 0.9438\n",
            "Epoch 391/450\n",
            "1583/1583 [==============================] - 2s 1ms/sample - loss: 0.1852 - sparse_categorical_accuracy: 0.9472\n",
            "Epoch 392/450\n",
            "1583/1583 [==============================] - 2s 1ms/sample - loss: 0.1879 - sparse_categorical_accuracy: 0.9448\n",
            "Epoch 393/450\n",
            "1583/1583 [==============================] - 2s 1ms/sample - loss: 0.1887 - sparse_categorical_accuracy: 0.9458\n",
            "Epoch 394/450\n",
            "1583/1583 [==============================] - 2s 1ms/sample - loss: 0.1854 - sparse_categorical_accuracy: 0.9481\n",
            "Epoch 395/450\n",
            "1583/1583 [==============================] - 2s 1ms/sample - loss: 0.1812 - sparse_categorical_accuracy: 0.9467\n",
            "Epoch 396/450\n",
            "1583/1583 [==============================] - 2s 1ms/sample - loss: 0.1886 - sparse_categorical_accuracy: 0.9462\n",
            "Epoch 397/450\n",
            "1583/1583 [==============================] - 2s 1ms/sample - loss: 0.1853 - sparse_categorical_accuracy: 0.9465\n",
            "Epoch 398/450\n",
            "1583/1583 [==============================] - 2s 1ms/sample - loss: 0.1768 - sparse_categorical_accuracy: 0.9489\n",
            "Epoch 399/450\n",
            "1583/1583 [==============================] - 2s 1ms/sample - loss: 0.1813 - sparse_categorical_accuracy: 0.9483\n",
            "Epoch 400/450\n",
            "1583/1583 [==============================] - 2s 1ms/sample - loss: 0.1866 - sparse_categorical_accuracy: 0.9468\n",
            "Epoch 401/450\n",
            "1583/1583 [==============================] - 2s 1ms/sample - loss: 0.1834 - sparse_categorical_accuracy: 0.9481\n",
            "Epoch 402/450\n",
            "1583/1583 [==============================] - 2s 1ms/sample - loss: 0.1803 - sparse_categorical_accuracy: 0.9487\n",
            "Epoch 403/450\n",
            "1583/1583 [==============================] - 2s 1ms/sample - loss: 0.1848 - sparse_categorical_accuracy: 0.9467\n",
            "Epoch 404/450\n",
            "1583/1583 [==============================] - 2s 1ms/sample - loss: 0.1796 - sparse_categorical_accuracy: 0.9486\n",
            "Epoch 405/450\n",
            "1583/1583 [==============================] - 2s 1ms/sample - loss: 0.1831 - sparse_categorical_accuracy: 0.9469\n",
            "Epoch 406/450\n",
            "1583/1583 [==============================] - 2s 1ms/sample - loss: 0.1864 - sparse_categorical_accuracy: 0.9469\n",
            "Epoch 407/450\n",
            "1583/1583 [==============================] - 2s 1ms/sample - loss: 0.1755 - sparse_categorical_accuracy: 0.9491\n",
            "Epoch 408/450\n",
            "1583/1583 [==============================] - 2s 1ms/sample - loss: 0.1758 - sparse_categorical_accuracy: 0.9499\n",
            "Epoch 409/450\n",
            "1583/1583 [==============================] - 2s 1ms/sample - loss: 0.1806 - sparse_categorical_accuracy: 0.9486\n",
            "Epoch 410/450\n",
            "1583/1583 [==============================] - 2s 1ms/sample - loss: 0.1789 - sparse_categorical_accuracy: 0.9473\n",
            "Epoch 411/450\n",
            "1583/1583 [==============================] - 2s 1ms/sample - loss: 0.1741 - sparse_categorical_accuracy: 0.9492\n",
            "Epoch 412/450\n",
            "1583/1583 [==============================] - 2s 1ms/sample - loss: 0.1709 - sparse_categorical_accuracy: 0.9533\n",
            "Epoch 413/450\n",
            "1583/1583 [==============================] - 2s 1ms/sample - loss: 0.1815 - sparse_categorical_accuracy: 0.9483\n",
            "Epoch 414/450\n",
            "1583/1583 [==============================] - 2s 1ms/sample - loss: 0.1705 - sparse_categorical_accuracy: 0.9499\n",
            "Epoch 415/450\n",
            "1583/1583 [==============================] - 2s 1ms/sample - loss: 0.1718 - sparse_categorical_accuracy: 0.9508\n",
            "Epoch 416/450\n",
            "1583/1583 [==============================] - 2s 1ms/sample - loss: 0.1793 - sparse_categorical_accuracy: 0.9491\n",
            "Epoch 417/450\n",
            "1583/1583 [==============================] - 2s 1ms/sample - loss: 0.1657 - sparse_categorical_accuracy: 0.9511\n",
            "Epoch 418/450\n",
            "1583/1583 [==============================] - 2s 1ms/sample - loss: 0.1753 - sparse_categorical_accuracy: 0.9503\n",
            "Epoch 419/450\n",
            "1583/1583 [==============================] - 2s 1ms/sample - loss: 0.1704 - sparse_categorical_accuracy: 0.9505\n",
            "Epoch 420/450\n",
            "1583/1583 [==============================] - 2s 1ms/sample - loss: 0.1677 - sparse_categorical_accuracy: 0.9508\n",
            "Epoch 421/450\n",
            "1583/1583 [==============================] - 2s 1ms/sample - loss: 0.1735 - sparse_categorical_accuracy: 0.9495\n",
            "Epoch 422/450\n",
            "1583/1583 [==============================] - 2s 1ms/sample - loss: 0.1693 - sparse_categorical_accuracy: 0.9505\n",
            "Epoch 423/450\n",
            "1583/1583 [==============================] - 2s 1ms/sample - loss: 0.1764 - sparse_categorical_accuracy: 0.9502\n",
            "Epoch 424/450\n",
            "1583/1583 [==============================] - 2s 1ms/sample - loss: 0.1776 - sparse_categorical_accuracy: 0.9499\n",
            "Epoch 425/450\n",
            "1583/1583 [==============================] - 2s 1ms/sample - loss: 0.1746 - sparse_categorical_accuracy: 0.9515\n",
            "Epoch 426/450\n",
            "1583/1583 [==============================] - 2s 1ms/sample - loss: 0.1702 - sparse_categorical_accuracy: 0.9512\n",
            "Epoch 427/450\n",
            "1583/1583 [==============================] - 2s 1ms/sample - loss: 0.1735 - sparse_categorical_accuracy: 0.9493\n",
            "Epoch 428/450\n",
            "1583/1583 [==============================] - 2s 1ms/sample - loss: 0.1666 - sparse_categorical_accuracy: 0.9514\n",
            "Epoch 429/450\n",
            "1583/1583 [==============================] - 2s 1ms/sample - loss: 0.1693 - sparse_categorical_accuracy: 0.9513\n",
            "Epoch 430/450\n",
            "1583/1583 [==============================] - 2s 1ms/sample - loss: 0.1651 - sparse_categorical_accuracy: 0.9521\n",
            "Epoch 431/450\n",
            "1583/1583 [==============================] - 2s 1ms/sample - loss: 0.1698 - sparse_categorical_accuracy: 0.9520\n",
            "Epoch 432/450\n",
            "1583/1583 [==============================] - 2s 1ms/sample - loss: 0.1663 - sparse_categorical_accuracy: 0.9516\n",
            "Epoch 433/450\n",
            "1583/1583 [==============================] - 2s 1ms/sample - loss: 0.1559 - sparse_categorical_accuracy: 0.9562\n",
            "Epoch 434/450\n",
            "1583/1583 [==============================] - 2s 1ms/sample - loss: 0.1663 - sparse_categorical_accuracy: 0.9531\n",
            "Epoch 435/450\n",
            "1583/1583 [==============================] - 2s 1ms/sample - loss: 0.1690 - sparse_categorical_accuracy: 0.9516\n",
            "Epoch 436/450\n",
            "1583/1583 [==============================] - 2s 1ms/sample - loss: 0.1591 - sparse_categorical_accuracy: 0.9536\n",
            "Epoch 437/450\n",
            "1583/1583 [==============================] - 2s 1ms/sample - loss: 0.1606 - sparse_categorical_accuracy: 0.9548\n",
            "Epoch 438/450\n",
            "1583/1583 [==============================] - 2s 1ms/sample - loss: 0.1613 - sparse_categorical_accuracy: 0.9538\n",
            "Epoch 439/450\n",
            "1583/1583 [==============================] - 2s 1ms/sample - loss: 0.1609 - sparse_categorical_accuracy: 0.9521\n",
            "Epoch 440/450\n",
            "1583/1583 [==============================] - 2s 1ms/sample - loss: 0.1652 - sparse_categorical_accuracy: 0.9529\n",
            "Epoch 441/450\n",
            "1583/1583 [==============================] - 2s 1ms/sample - loss: 0.1600 - sparse_categorical_accuracy: 0.9554\n",
            "Epoch 442/450\n",
            "1583/1583 [==============================] - 2s 1ms/sample - loss: 0.1613 - sparse_categorical_accuracy: 0.9550\n",
            "Epoch 443/450\n",
            "1583/1583 [==============================] - 2s 1ms/sample - loss: 0.1634 - sparse_categorical_accuracy: 0.9551\n",
            "Epoch 444/450\n",
            "1583/1583 [==============================] - 2s 1ms/sample - loss: 0.1565 - sparse_categorical_accuracy: 0.9553\n",
            "Epoch 445/450\n",
            "1583/1583 [==============================] - 2s 1ms/sample - loss: 0.1723 - sparse_categorical_accuracy: 0.9500\n",
            "Epoch 446/450\n",
            "1583/1583 [==============================] - 2s 1ms/sample - loss: 0.1539 - sparse_categorical_accuracy: 0.9559\n",
            "Epoch 447/450\n",
            "1583/1583 [==============================] - 2s 1ms/sample - loss: 0.1640 - sparse_categorical_accuracy: 0.9524\n",
            "Epoch 448/450\n",
            "1583/1583 [==============================] - 2s 1ms/sample - loss: 0.1565 - sparse_categorical_accuracy: 0.9562\n",
            "Epoch 449/450\n",
            "1583/1583 [==============================] - 2s 1ms/sample - loss: 0.1632 - sparse_categorical_accuracy: 0.9531\n",
            "Epoch 450/450\n",
            "1583/1583 [==============================] - 2s 1ms/sample - loss: 0.1512 - sparse_categorical_accuracy: 0.9571\n"
          ],
          "name": "stdout"
        }
      ]
    },
    {
      "cell_type": "code",
      "metadata": {
        "colab_type": "code",
        "id": "TXwdN2rrVP21",
        "outputId": "8f748cb4-e2a4-4838-d02f-076d7a0a4293",
        "colab": {
          "base_uri": "https://localhost:8080/",
          "height": 573
        }
      },
      "source": [
        "# summarize history for accuracy\n",
        "plt.plot(history.history['sparse_categorical_accuracy'])\n",
        "plt.title('model accuracy')\n",
        "plt.ylabel('accuracy')\n",
        "plt.xlabel('epoch')\n",
        "plt.legend(['train', 'test'], loc='upper left')\n",
        "plt.show()\n",
        "\n",
        "# summarize history for loss\n",
        "plt.plot(history.history['loss'])\n",
        "plt.title('model loss')\n",
        "plt.ylabel('loss')\n",
        "plt.xlabel('epoch')\n",
        "plt.legend(['train', 'test'], loc='upper left')\n",
        "plt.show()"
      ],
      "execution_count": 0,
      "outputs": [
        {
          "output_type": "display_data",
          "data": {
            "image/png": "[encoded data removed]",
            "text/plain": [
              "<Figure size 432x288 with 1 Axes>"
            ]
          },
          "metadata": {
            "tags": []
          }
        },
        {
          "output_type": "display_data",
          "data": {
            "image/png": "[encoded data removed]",
            "text/plain": [
              "<Figure size 432x288 with 1 Axes>"
            ]
          },
          "metadata": {
            "tags": []
          }
        }
      ]
    },
    {
      "cell_type": "code",
      "metadata": {
        "colab_type": "code",
        "id": "fix0Al_acUuT",
        "outputId": "0b4a5fa0-b3e6-4fdf-b444-59412d7e3d6a",
        "colab": {
          "base_uri": "https://localhost:8080/",
          "height": 1000
        }
      },
      "source": [
        "model.predict(X_train)"
      ],
      "execution_count": 0,
      "outputs": [
        {
          "output_type": "execute_result",
          "data": {
            "text/plain": [
              "array([[[-2.84761219e+01, -2.66662560e+01, -2.41473446e+01, ...,\n",
              "         -2.66651478e+01, -2.66643200e+01, -2.66648598e+01],\n",
              "        [-3.45991516e+01, -3.50120697e+01, -1.72600150e-04, ...,\n",
              "         -3.50159416e+01, -3.50134087e+01, -3.50140495e+01],\n",
              "        [-3.70270195e+01, -3.54651642e+01, -1.16139908e+01, ...,\n",
              "         -3.54711533e+01, -3.54676056e+01, -3.54693260e+01],\n",
              "        ...,\n",
              "        [ 0.00000000e+00, -3.98039093e+01, -4.69286652e+01, ...,\n",
              "         -3.98060036e+01, -3.98048553e+01, -3.98059235e+01],\n",
              "        [ 0.00000000e+00, -3.63706017e+01, -4.73696136e+01, ...,\n",
              "         -3.63720589e+01, -3.63704948e+01, -3.63709641e+01],\n",
              "        [ 0.00000000e+00, -3.87210579e+01, -4.09561043e+01, ...,\n",
              "         -3.87236977e+01, -3.87222595e+01, -3.87235298e+01]],\n",
              "\n",
              "       [[-2.71198444e+01, -2.71305294e+01, -1.37956238e+01, ...,\n",
              "         -2.71369324e+01, -2.71325684e+01, -2.71354332e+01],\n",
              "        [-2.66277695e+01, -2.66931362e+01, -2.62541237e+01, ...,\n",
              "         -2.66960583e+01, -2.66945953e+01, -2.66941147e+01],\n",
              "        [-1.44207325e+01, -2.63971710e+01, -4.61747017e+01, ...,\n",
              "         -2.64022408e+01, -2.64000683e+01, -2.64006195e+01],\n",
              "        ...,\n",
              "        [ 0.00000000e+00, -4.24229584e+01, -4.86211548e+01, ...,\n",
              "         -4.24259338e+01, -4.24245453e+01, -4.24255409e+01],\n",
              "        [-1.14792236e-03, -2.98855381e+01, -4.93080864e+01, ...,\n",
              "         -2.98846188e+01, -2.98850536e+01, -2.98857498e+01],\n",
              "        [-1.19209282e-07, -4.11134949e+01, -4.38903275e+01, ...,\n",
              "         -4.11163330e+01, -4.11154251e+01, -4.11170387e+01]],\n",
              "\n",
              "       [[-3.76682358e+01, -3.41253166e+01, -1.57355223e+01, ...,\n",
              "         -3.41301422e+01, -3.41280212e+01, -3.41290627e+01],\n",
              "        [-2.26296310e+01, -2.80101261e+01, -2.51164532e+01, ...,\n",
              "         -2.80134087e+01, -2.80131149e+01, -2.80121346e+01],\n",
              "        [-2.58549480e+01, -3.12582493e+01, -2.70061817e+01, ...,\n",
              "         -3.12654457e+01, -3.12650471e+01, -3.12654610e+01],\n",
              "        ...,\n",
              "        [-1.19209282e-07, -3.75713272e+01, -5.28760796e+01, ...,\n",
              "         -3.75728912e+01, -3.75725708e+01, -3.75724525e+01],\n",
              "        [-1.54970876e-05, -3.47357254e+01, -5.84040756e+01, ...,\n",
              "         -3.47388573e+01, -3.47370110e+01, -3.47377625e+01],\n",
              "        [-1.43051045e-06, -3.92446823e+01, -4.27393074e+01, ...,\n",
              "         -3.92473831e+01, -3.92464027e+01, -3.92473602e+01]],\n",
              "\n",
              "       ...,\n",
              "\n",
              "       [[-3.29024315e+01, -3.35563850e+01, -4.29790955e+01, ...,\n",
              "         -3.35609665e+01, -3.35546608e+01, -3.35559387e+01],\n",
              "        [-3.28232574e+01, -3.36090240e+01, -3.93749466e+01, ...,\n",
              "         -3.36146469e+01, -3.36114120e+01, -3.36117172e+01],\n",
              "        [-2.08060150e+01, -3.23384323e+01, -4.43717728e+01, ...,\n",
              "         -3.23422890e+01, -3.23394508e+01, -3.23385429e+01],\n",
              "        ...,\n",
              "        [-2.40297057e-04, -3.08572712e+01, -2.23573132e+01, ...,\n",
              "         -3.08586960e+01, -3.08587933e+01, -3.08579006e+01],\n",
              "        [-3.65965825e-05, -3.43932228e+01, -4.17102966e+01, ...,\n",
              "         -3.43979797e+01, -3.43963547e+01, -3.43982124e+01],\n",
              "        [-2.26497400e-06, -3.44037476e+01, -2.61030045e+01, ...,\n",
              "         -3.44053535e+01, -3.44056664e+01, -3.44058418e+01]],\n",
              "\n",
              "       [[-2.58977852e+01, -3.26152420e+01, -3.86998825e+01, ...,\n",
              "         -3.26183853e+01, -3.26166382e+01, -3.26175575e+01],\n",
              "        [-1.78452492e+01, -3.42873192e+01, -1.80829945e+01, ...,\n",
              "         -3.42911682e+01, -3.42874336e+01, -3.42886963e+01],\n",
              "        [-9.09086800e+00, -3.15901165e+01, -3.51741982e+01, ...,\n",
              "         -3.15952091e+01, -3.15918331e+01, -3.15930061e+01],\n",
              "        ...,\n",
              "        [ 0.00000000e+00, -3.88649902e+01, -5.17994385e+01, ...,\n",
              "         -3.88667297e+01, -3.88638382e+01, -3.88651466e+01],\n",
              "        [-4.88756905e-06, -3.59281158e+01, -5.17024803e+01, ...,\n",
              "         -3.59305153e+01, -3.59262123e+01, -3.59278488e+01],\n",
              "        [ 0.00000000e+00, -3.81099052e+01, -5.66333237e+01, ...,\n",
              "         -3.81112289e+01, -3.81085930e+01, -3.81099129e+01]],\n",
              "\n",
              "       [[-1.71204319e+01, -2.74991035e+01, -2.86534786e+01, ...,\n",
              "         -2.75014992e+01, -2.75009117e+01, -2.75021572e+01],\n",
              "        [-2.86964264e+01, -2.86153984e+01, -1.46604481e+01, ...,\n",
              "         -2.86184082e+01, -2.86173496e+01, -2.86180820e+01],\n",
              "        [-3.18202477e+01, -3.23779640e+01, -1.56175413e+01, ...,\n",
              "         -3.23856239e+01, -3.23834839e+01, -3.23848381e+01],\n",
              "        ...,\n",
              "        [-3.57627812e-07, -3.51997948e+01, -4.72556000e+01, ...,\n",
              "         -3.52012596e+01, -3.52003860e+01, -3.52002449e+01],\n",
              "        [-3.11131407e-05, -3.25735435e+01, -4.87953568e+01, ...,\n",
              "         -3.25773392e+01, -3.25728493e+01, -3.25736771e+01],\n",
              "        [-2.62260096e-06, -3.80370903e+01, -4.63739891e+01, ...,\n",
              "         -3.80395699e+01, -3.80373726e+01, -3.80383911e+01]]],\n",
              "      dtype=float32)"
            ]
          },
          "metadata": {
            "tags": []
          },
          "execution_count": 290
        }
      ]
    },
    {
      "cell_type": "code",
      "metadata": {
        "colab_type": "code",
        "id": "s_zywZgCG3BB",
        "outputId": "86254bef-0275-4436-ef75-2ae42fd8e2a0",
        "colab": {
          "base_uri": "https://localhost:8080/",
          "height": 68
        }
      },
      "source": [
        "# ind == the index of the sentence we want to translate\n",
        "ind = 150\n",
        "l = np.argmax(model.predict(X_train), axis=2)[ind]\n",
        "print(l.shape, X_train[1].shape)\n",
        "pred = [dict_en[x] for x in list(l)]\n",
        "true = [dict_en[x] for x in list(X_train[1][ind])]\n",
        "print('sentence predicted:', pred)\n",
        "print('true sentence:     ', true[1:])\n",
        "\n"
      ],
      "execution_count": 0,
      "outputs": [
        {
          "output_type": "stream",
          "text": [
            "(13,) (1583, 13)\n",
            "sentence predicted: ['frankly', 'i', 'believe', 'that', 'this', 'modernisation', 'has', 'been', 'satisfactory', '<end>', '<end>', '<end>', '<end>']\n",
            "true sentence:      ['frankly', 'i', 'believe', 'that', 'this', 'modernisation', 'has', 'been', 'satisfactory', '<end>', '<end>', '<end>']\n"
          ],
          "name": "stdout"
        }
      ]
    },
    {
      "cell_type": "code",
      "metadata": {
        "colab_type": "code",
        "id": "6-hsIVE0UnRs",
        "outputId": "95ab98a9-2781-49b3-c64f-5ac4f4a0760c",
        "colab": {
          "base_uri": "https://localhost:8080/",
          "height": 34
        }
      },
      "source": [
        "# Cumulative BLEU score Calculation\n",
        "from nltk.translate.bleu_score import sentence_bleu\n",
        "reference = [pred]\n",
        "candidate = true[1:]\n",
        "score = sentence_bleu(reference, candidate, weights=(0.25, 0.25, 0.25, 0.25))\n",
        "print(score)\n"
      ],
      "execution_count": 0,
      "outputs": [
        {
          "output_type": "stream",
          "text": [
            "0.9200444146293233\n"
          ],
          "name": "stdout"
        }
      ]
    }
  ]
}